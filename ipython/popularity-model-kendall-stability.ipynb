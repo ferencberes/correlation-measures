{
 "cells": [
  {
   "cell_type": "code",
   "execution_count": null,
   "metadata": {
    "collapsed": false
   },
   "outputs": [],
   "source": [
    "from IPython.core.display import display, HTML\n",
    "display(HTML(\"<style>.container { width:100% !important; }</style>\"))"
   ]
  },
  {
   "cell_type": "code",
   "execution_count": null,
   "metadata": {
    "collapsed": false
   },
   "outputs": [],
   "source": [
    "import pandas as pd\n",
    "import numpy as np\n",
    "import re, math, itertools"
   ]
  },
  {
   "cell_type": "code",
   "execution_count": null,
   "metadata": {
    "collapsed": false
   },
   "outputs": [],
   "source": [
    "%matplotlib inline\n",
    "import matplotlib.pyplot as plt\n",
    "import seaborn as sns\n",
    "sns.set(font=\"Droid Sans\",font_scale = 2)\n",
    "sns.set_style(\"whitegrid\")\n",
    "sns.set_color_codes(\"dark\")"
   ]
  },
  {
   "cell_type": "code",
   "execution_count": null,
   "metadata": {
    "collapsed": false
   },
   "outputs": [],
   "source": [
    "import sys, os\n",
    "sys.path.insert(0,'../python/')\n",
    "import correlation.correlation_utils as cu\n",
    "import popularity_model.popularity_model as pm\n",
    "import popularity_model.popularity_model_utils as pmu"
   ]
  },
  {
   "cell_type": "markdown",
   "metadata": {},
   "source": [
    "# Choose dataset"
   ]
  },
  {
   "cell_type": "code",
   "execution_count": null,
   "metadata": {
    "collapsed": true
   },
   "outputs": [],
   "source": [
    "dataset_id = 'yo_pagerank'"
   ]
  },
  {
   "cell_type": "code",
   "execution_count": null,
   "metadata": {
    "collapsed": false
   },
   "outputs": [],
   "source": [
    "dataset_stat_file = \"../correlation_experiments/%s_results.csv\" % dataset_id\n",
    "stat_df = pd.read_csv(dataset_stat_file, sep=\" \")"
   ]
  },
  {
   "cell_type": "markdown",
   "metadata": {},
   "source": [
    "#### extract number of users in data"
   ]
  },
  {
   "cell_type": "code",
   "execution_count": null,
   "metadata": {
    "collapsed": false
   },
   "outputs": [],
   "source": [
    "print stat_df.columns[2]\n",
    "\n",
    "total_num_matcher = re.match(r'.*\\(total=(\\d+?)\\)', stat_df.columns[2], re.M|re.I)\n",
    "if not total_num_matcher:\n",
    "    raise RuntimeError(\"Column name does NOT match the regex!\")"
   ]
  },
  {
   "cell_type": "markdown",
   "metadata": {},
   "source": [
    "#### rename a column"
   ]
  },
  {
   "cell_type": "code",
   "execution_count": null,
   "metadata": {
    "collapsed": true
   },
   "outputs": [],
   "source": [
    "cols = list(stat_df.columns)\n",
    "cols[2] = \"fraction_of_active_nodes\"\n",
    "stat_df.columns = cols"
   ]
  },
  {
   "cell_type": "code",
   "execution_count": null,
   "metadata": {
    "collapsed": false
   },
   "outputs": [],
   "source": [
    "stat_df.head()"
   ]
  },
  {
   "cell_type": "code",
   "execution_count": null,
   "metadata": {
    "collapsed": true
   },
   "outputs": [],
   "source": [
    "num_of_users = 2000 #int(total_num_matcher.group(1))\n",
    "num_of_days = len(stat_df)-1"
   ]
  },
  {
   "cell_type": "code",
   "execution_count": null,
   "metadata": {
    "collapsed": false
   },
   "outputs": [],
   "source": [
    "p = list(stat_df[\"fraction_of_active_nodes\"])[:num_of_days]\n",
    "p_overlap = list(stat_df[\"fraction_of_users_in_2day_intersections\"])[:num_of_days]"
   ]
  },
  {
   "cell_type": "markdown",
   "metadata": {},
   "source": [
    "# Correlations in real data"
   ]
  },
  {
   "cell_type": "code",
   "execution_count": null,
   "metadata": {
    "collapsed": true
   },
   "outputs": [],
   "source": [
    "data_kendall = list(stat_df[\"kendall\"])[:num_of_days-1]\n",
    "data_w_kendall = list(stat_df[\"w_kendall\"])[:num_of_days-1]"
   ]
  },
  {
   "cell_type": "markdown",
   "metadata": {},
   "source": [
    "# Popularity model"
   ]
  },
  {
   "cell_type": "code",
   "execution_count": null,
   "metadata": {
    "collapsed": false
   },
   "outputs": [],
   "source": [
    "print num_of_users, num_of_days"
   ]
  },
  {
   "cell_type": "markdown",
   "metadata": {},
   "source": [
    "**TODO: fit powerlaw exponent on real data aggregated centrality values!!!**"
   ]
  },
  {
   "cell_type": "code",
   "execution_count": null,
   "metadata": {
    "collapsed": false
   },
   "outputs": [],
   "source": [
    "model = pm.PopularityModel(num_of_users, num_of_days)"
   ]
  },
  {
   "cell_type": "code",
   "execution_count": null,
   "metadata": {
    "collapsed": false
   },
   "outputs": [],
   "source": [
    "X_act = model.get_centrality_with_markov(p, p_overlap)"
   ]
  },
  {
   "cell_type": "code",
   "execution_count": null,
   "metadata": {
    "collapsed": false
   },
   "outputs": [],
   "source": [
    "X_act_leaders = model.get_centrality_with_markov(p, p_overlap, lambda_=0.1)"
   ]
  },
  {
   "cell_type": "markdown",
   "metadata": {},
   "source": [
    "# Kendall utils"
   ]
  },
  {
   "cell_type": "code",
   "execution_count": null,
   "metadata": {
    "collapsed": true
   },
   "outputs": [],
   "source": [
    "import scipy.stats as ss\n",
    "\n",
    "def tiedrank(vector):\n",
    "    return (len(vector) + 1) * np.ones(len(vector)) - ss.rankdata(vector)\n",
    "\n",
    "def get_list_for_corr(M,day_idx):\n",
    "    idx = day_idx\n",
    "    day_one = np.ceil(M[idx,:])\n",
    "    day_two = np.ceil(M[idx+1,:])\n",
    "\n",
    "    ind_one=np.nonzero(day_one)[0];\n",
    "    ind_two=np.nonzero(day_two)[0];\n",
    "    ind=np.union1d(ind_one,ind_two)\n",
    "\n",
    "    ranks_day_one=tiedrank(day_one[ind])\n",
    "    ranks_day_two=tiedrank(day_two[ind])\n",
    "    return ranks_day_one, ranks_day_two"
   ]
  },
  {
   "cell_type": "code",
   "execution_count": null,
   "metadata": {
    "collapsed": true
   },
   "outputs": [],
   "source": [
    "def findWKendall(rankX,rankY):\n",
    "    n = len(rankX)\n",
    "    denomX=0\n",
    "    denomY=0\n",
    "    denomXW=0\n",
    "    denomYW=0\n",
    "    num=0\n",
    "    numW=0\n",
    "\n",
    "    for i in range(n):\n",
    "        for j in range(i+1,n):\n",
    "            weightXY= 1/rankY[i]+1/rankY[j]\n",
    "            weightX=1/rankX[i]+1/rankX[j];\n",
    "            weightY=1/rankY[i]+1/rankY[j];\n",
    "            termX=np.sign(rankX[i]-rankX[j]);\n",
    "            termY=np.sign(rankY[i]-rankY[j]);\n",
    "            denomX=denomX+(termX)**2;\n",
    "            denomY=denomY+(termY)**2;\n",
    "            denomXW=denomXW+(termX)**2*weightX;\n",
    "            denomYW=denomYW+(termY)**2*weightY;\n",
    "            num=num+termX*termY;\n",
    "            numW=numW+termX*termY*weightXY;\n",
    "\n",
    "    Kendall=num/math.sqrt(denomX*denomY);\n",
    "    WKendall=numW/math.sqrt(denomXW*denomYW);\n",
    "    return [Kendall, WKendall]"
   ]
  },
  {
   "cell_type": "code",
   "execution_count": null,
   "metadata": {
    "collapsed": true
   },
   "outputs": [],
   "source": [
    "import scipy.stats as stats\n",
    "import operator\n",
    "\n",
    "def get_correlations(A, num_of_days):\n",
    "    kendall = []\n",
    "    for i in xrange(1,num_of_days):\n",
    "        rank_list_0, rank_list_1 = get_list_for_corr(A,i-1)\n",
    "        kendall.append(stats.kendalltau(rank_list_0,rank_list_1)[0])\n",
    "    return kendall\n",
    "\n",
    "def get_custom_correlations_2(A, num_of_days):\n",
    "    \"\"\"Return unweighted and weighted correlations\"\"\"\n",
    "    res = []\n",
    "    for i in xrange(1,num_of_days):\n",
    "        rank_list_0, rank_list_1 = get_list_for_corr(A,i-1)\n",
    "        res.append(findWKendall(rank_list_0,rank_list_1))\n",
    "    return np.array(res)"
   ]
  },
  {
   "cell_type": "markdown",
   "metadata": {},
   "source": [
    "# Experiments"
   ]
  },
  {
   "cell_type": "markdown",
   "metadata": {
    "collapsed": true
   },
   "source": [
    "## 1.) Model stability related to daily variations"
   ]
  },
  {
   "cell_type": "code",
   "execution_count": null,
   "metadata": {
    "collapsed": false
   },
   "outputs": [],
   "source": [
    "def test_stability_for_alpha(lambdas, num_samples):\n",
    "    rmse_arr = []\n",
    "    for selected_lambda in lambdas:\n",
    "        for i in xrange(num_samples):\n",
    "            sample_model = pm.PopularityModel(num_of_users, num_of_days)\n",
    "            x_act_leaders = sample_model.get_centrality_with_markov(p, p_overlap, lambda_=selected_lambda)\n",
    "            res = get_custom_correlations_2(x_act_leaders, num_of_days)\n",
    "            kendall, w_kendall = list(res[:,0]), list(res[:,1])\n",
    "            rmse_arr.append([selected_lambda, 'unweighted', pmu.rmse(data_kendall, kendall)])\n",
    "            rmse_arr.append([selected_lambda, 'weighted', pmu.rmse(data_w_kendall, w_kendall)])\n",
    "            print i\n",
    "        print \"lambda=%f finished\" % selected_lambda\n",
    "    rmse_df = pd.DataFrame(np.array(rmse_arr), columns=[\"lambda\",\"type\",\"rmse\"])\n",
    "    rmse_df[\"rmse\"] = rmse_df[\"rmse\"].astype(\"float64\")\n",
    "    return rmse_df"
   ]
  },
  {
   "cell_type": "code",
   "execution_count": null,
   "metadata": {
    "collapsed": false,
    "scrolled": false
   },
   "outputs": [],
   "source": [
    "num_of_samples = 5\n",
    "lambdas = np.linspace(0.0, 1.0, num=11)\n",
    "rmse_corr = test_stability_for_alpha(lambdas,num_of_samples)"
   ]
  },
  {
   "cell_type": "code",
   "execution_count": null,
   "metadata": {
    "collapsed": false,
    "scrolled": true
   },
   "outputs": [],
   "source": [
    "import graphlab\n",
    "data = graphlab.SFrame(rmse_corr)\n",
    "unweighted_rmse_corr = data[data[\"type\"] == \"unweighted\"]\n",
    "weighted_rmse_corr = data[data[\"type\"] == \"weighted\"]\n",
    "weighted_rmse_avg = weighted_rmse_corr.groupby(\"lambda\",{'rmse_avg':graphlab.aggregate.AVG('rmse')})\n",
    "weighted_rmse_std = weighted_rmse_corr.groupby(\"lambda\",{'rmse_std':graphlab.aggregate.STD('rmse')})\n",
    "weighted_rmse = weighted_rmse_avg.join(weighted_rmse_std,\"lambda\")\n",
    "unweighted_rmse_avg = unweighted_rmse_corr.groupby(\"lambda\",{'rmse_avg':graphlab.aggregate.AVG('rmse')})\n",
    "unweighted_rmse_std = unweighted_rmse_corr.groupby(\"lambda\",{'rmse_std':graphlab.aggregate.STD('rmse')})\n",
    "unweighted_rmse = unweighted_rmse_avg.join(unweighted_rmse_std,\"lambda\")\n",
    "weighted_rmse = weighted_rmse.to_dataframe()\n",
    "unweighted_rmse = unweighted_rmse.to_dataframe()"
   ]
  },
  {
   "cell_type": "code",
   "execution_count": null,
   "metadata": {
    "collapsed": false
   },
   "outputs": [],
   "source": [
    "marker = itertools.cycle((\"o\", \"s\", \"^\", \"v\", \">\", \"<\", \"D\",\"*\"))\n",
    "fig, axes = plt.subplots(figsize=(12,8))\n",
    "plt.errorbar(unweighted_rmse[\"lambda\"],unweighted_rmse[\"rmse_avg\"],yerr=unweighted_rmse[\"rmse_std\"],fmt='o',label=\"unweighted\",elinewidth=3,marker=marker.next(),markersize='10')\n",
    "plt.errorbar(weighted_rmse[\"lambda\"],weighted_rmse[\"rmse_avg\"],yerr=weighted_rmse[\"rmse_std\"],fmt='o',label=\"weighted\",elinewidth=3,marker=marker.next(),markersize='10')\n",
    "plt.legend()"
   ]
  },
  {
   "cell_type": "code",
   "execution_count": null,
   "metadata": {
    "collapsed": true
   },
   "outputs": [],
   "source": [
    "rmse_corr.to_csv('../final_plot_data/yo-0.2/kendall_stability.csv',sep=\";\",index=False)"
   ]
  },
  {
   "cell_type": "markdown",
   "metadata": {},
   "source": [
    "## 2.) Optimal _lambda_ parameter visualization"
   ]
  },
  {
   "cell_type": "code",
   "execution_count": null,
   "metadata": {
    "collapsed": true
   },
   "outputs": [],
   "source": [
    "model_opt = pm.PopularityModel(num_of_users, num_of_days)\n",
    "X_act_leaders = model_opt.get_centrality_with_markov(p, p_overlap, lambda_=0.3)"
   ]
  },
  {
   "cell_type": "code",
   "execution_count": null,
   "metadata": {
    "collapsed": false
   },
   "outputs": [],
   "source": [
    "res = get_custom_correlations_2(X_act_leaders, num_of_days)\n",
    "opt_kendall, opt_w_kendall = list(res[:,0]), list(res[:,1])"
   ]
  },
  {
   "cell_type": "code",
   "execution_count": null,
   "metadata": {
    "collapsed": false
   },
   "outputs": [],
   "source": [
    "marker = itertools.cycle((\"o\", \"s\", \"^\", \"v\", \">\", \"<\", \"D\",\"*\")) \n",
    "def plot_correlations(num_of_days, values, labels, caption, figsize=(12,8)):\n",
    "    plt.figure(figsize=figsize)\n",
    "    for i in range(len(values)):\n",
    "        plt.plot(range(num_of_days-1),values[i],'-o',label=labels[i],marker=marker.next(),markersize='10')\n",
    "    plt.ylim(-1.0,1.1)\n",
    "    plt.legend()\n",
    "    plt.show()"
   ]
  },
  {
   "cell_type": "code",
   "execution_count": null,
   "metadata": {
    "collapsed": false
   },
   "outputs": [],
   "source": [
    "label_list = [\"kendall model\",\"kendall data\",\"weighted kendall model\",\"weighted kendall data\"]\n",
    "plot_correlations(num_of_days,[opt_kendall,data_kendall,opt_w_kendall,data_w_kendall],label_list,\"Kendall's tau\")"
   ]
  },
  {
   "cell_type": "markdown",
   "metadata": {},
   "source": [
    "rmse_corr.to_csv('../final_plot_data/yo-0.2/kendall_stability.csv',sep=\";\",index=False)"
   ]
  },
  {
   "cell_type": "code",
   "execution_count": null,
   "metadata": {
    "collapsed": false
   },
   "outputs": [],
   "source": [
    "for val in opt_kendall:\n",
    "    print val"
   ]
  },
  {
   "cell_type": "code",
   "execution_count": null,
   "metadata": {
    "collapsed": false
   },
   "outputs": [],
   "source": [
    "for val in opt_w_kendall:\n",
    "    print val"
   ]
  }
 ],
 "metadata": {
  "kernelspec": {
   "display_name": "Python 2",
   "language": "python",
   "name": "python2"
  },
  "language_info": {
   "codemirror_mode": {
    "name": "ipython",
    "version": 2
   },
   "file_extension": ".py",
   "mimetype": "text/x-python",
   "name": "python",
   "nbconvert_exporter": "python",
   "pygments_lexer": "ipython2",
   "version": "2.7.11"
  }
 },
 "nbformat": 4,
 "nbformat_minor": 0
}
