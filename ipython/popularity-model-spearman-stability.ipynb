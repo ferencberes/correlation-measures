{
 "cells": [
  {
   "cell_type": "code",
   "execution_count": null,
   "metadata": {
    "collapsed": false
   },
   "outputs": [],
   "source": [
    "from IPython.core.display import display, HTML\n",
    "display(HTML(\"<style>.container { width:100% !important; }</style>\"))"
   ]
  },
  {
   "cell_type": "code",
   "execution_count": null,
   "metadata": {
    "collapsed": false
   },
   "outputs": [],
   "source": [
    "import pandas as pd\n",
    "import numpy as np\n",
    "import re, math, itertools"
   ]
  },
  {
   "cell_type": "code",
   "execution_count": null,
   "metadata": {
    "collapsed": false
   },
   "outputs": [],
   "source": [
    "%matplotlib inline\n",
    "import matplotlib.pyplot as plt\n",
    "import seaborn as sns\n",
    "sns.set(font=\"Droid Sans\",font_scale = 2)\n",
    "sns.set_style(\"whitegrid\")\n",
    "sns.set_color_codes(\"dark\")"
   ]
  },
  {
   "cell_type": "code",
   "execution_count": null,
   "metadata": {
    "collapsed": false
   },
   "outputs": [],
   "source": [
    "import sys, os\n",
    "sys.path.insert(0,'../python/')\n",
    "import correlation.correlation_utils as cu\n",
    "import popularity_model.popularity_model as pm\n",
    "import popularity_model.popularity_model_utils as pmu"
   ]
  },
  {
   "cell_type": "markdown",
   "metadata": {},
   "source": [
    "# Choose dataset"
   ]
  },
  {
   "cell_type": "code",
   "execution_count": null,
   "metadata": {
    "collapsed": true
   },
   "outputs": [],
   "source": [
    "dataset_id = '15o_pagerank'"
   ]
  },
  {
   "cell_type": "code",
   "execution_count": null,
   "metadata": {
    "collapsed": false
   },
   "outputs": [],
   "source": [
    "dataset_stat_file = \"../correlation_experiments/%s_results.csv\" % dataset_id\n",
    "stat_df = pd.read_csv(dataset_stat_file, sep=\" \")"
   ]
  },
  {
   "cell_type": "markdown",
   "metadata": {},
   "source": [
    "#### extract number of users in data"
   ]
  },
  {
   "cell_type": "code",
   "execution_count": null,
   "metadata": {
    "collapsed": false
   },
   "outputs": [],
   "source": [
    "print stat_df.columns[2]\n",
    "\n",
    "total_num_matcher = re.match(r'.*\\(total=(\\d+?)\\)', stat_df.columns[2], re.M|re.I)\n",
    "if not total_num_matcher:\n",
    "    raise RuntimeError(\"Column name does NOT match the regex!\")"
   ]
  },
  {
   "cell_type": "markdown",
   "metadata": {},
   "source": [
    "#### rename a column"
   ]
  },
  {
   "cell_type": "code",
   "execution_count": null,
   "metadata": {
    "collapsed": true
   },
   "outputs": [],
   "source": [
    "cols = list(stat_df.columns)\n",
    "cols[2] = \"fraction_of_active_nodes\"\n",
    "stat_df.columns = cols"
   ]
  },
  {
   "cell_type": "code",
   "execution_count": null,
   "metadata": {
    "collapsed": false
   },
   "outputs": [],
   "source": [
    "stat_df.head()"
   ]
  },
  {
   "cell_type": "code",
   "execution_count": null,
   "metadata": {
    "collapsed": true
   },
   "outputs": [],
   "source": [
    "num_of_users = int(total_num_matcher.group(1))\n",
    "num_of_days = len(stat_df)-1"
   ]
  },
  {
   "cell_type": "code",
   "execution_count": null,
   "metadata": {
    "collapsed": false
   },
   "outputs": [],
   "source": [
    "p = list(stat_df[\"fraction_of_active_nodes\"])[:num_of_days]\n",
    "p_overlap = list(stat_df[\"fraction_of_users_in_2day_intersections\"])[:num_of_days]"
   ]
  },
  {
   "cell_type": "markdown",
   "metadata": {},
   "source": [
    "# Correlations in real data"
   ]
  },
  {
   "cell_type": "code",
   "execution_count": null,
   "metadata": {
    "collapsed": true
   },
   "outputs": [],
   "source": [
    "data_spearman = list(stat_df[\"spearman\"])[:num_of_days-1]\n",
    "data_w_spearman = list(stat_df[\"w_spearman\"])[:num_of_days-1]"
   ]
  },
  {
   "cell_type": "markdown",
   "metadata": {},
   "source": [
    "# Popularity model"
   ]
  },
  {
   "cell_type": "code",
   "execution_count": null,
   "metadata": {
    "collapsed": false
   },
   "outputs": [],
   "source": [
    "print num_of_users, num_of_days"
   ]
  },
  {
   "cell_type": "markdown",
   "metadata": {},
   "source": [
    "**TODO: fit powerlaw exponent on real data aggregated centrality values!!!**"
   ]
  },
  {
   "cell_type": "code",
   "execution_count": null,
   "metadata": {
    "collapsed": false
   },
   "outputs": [],
   "source": [
    "model = pm.PopularityModel(num_of_users, num_of_days)"
   ]
  },
  {
   "cell_type": "code",
   "execution_count": null,
   "metadata": {
    "collapsed": false
   },
   "outputs": [],
   "source": [
    "X_act = model.get_centrality_with_markov(p, p_overlap)"
   ]
  },
  {
   "cell_type": "code",
   "execution_count": null,
   "metadata": {
    "collapsed": false
   },
   "outputs": [],
   "source": [
    "X_act_leaders = model.get_centrality_with_markov(p, p_overlap, lambda_=0.1)"
   ]
  },
  {
   "cell_type": "code",
   "execution_count": null,
   "metadata": {
    "collapsed": true
   },
   "outputs": [],
   "source": []
  },
  {
   "cell_type": "code",
   "execution_count": null,
   "metadata": {
    "collapsed": true
   },
   "outputs": [],
   "source": []
  },
  {
   "cell_type": "markdown",
   "metadata": {},
   "source": [
    "# Experiments"
   ]
  },
  {
   "cell_type": "markdown",
   "metadata": {},
   "source": [
    "### Search for optimal _lambda_ parameter"
   ]
  },
  {
   "cell_type": "code",
   "execution_count": null,
   "metadata": {
    "collapsed": false
   },
   "outputs": [],
   "source": [
    "lambdas = np.linspace(0.0, 1.0, num=11)\n",
    "print lambdas"
   ]
  },
  {
   "cell_type": "markdown",
   "metadata": {
    "collapsed": false
   },
   "source": [
    "(opt_lambda, opt_spearman, opt_diff, X_act_leaders) = pmu.get_opt_lambda_for_model(lambdas, model, p, p_overlap, num_of_days, data_spearman, for_weighted=False)"
   ]
  },
  {
   "cell_type": "markdown",
   "metadata": {
    "collapsed": false
   },
   "source": [
    "(opt_w_lambda, opt_w_spearman, opt_w_diff, w_X_act_leaders) = pmu.get_opt_lambda_for_model(lambdas, model, p, p_overlap, num_of_days, data_w_spearman, for_weighted=True)"
   ]
  },
  {
   "cell_type": "markdown",
   "metadata": {
    "collapsed": false
   },
   "source": [
    "print opt_lambda, opt_w_lambda"
   ]
  },
  {
   "cell_type": "code",
   "execution_count": null,
   "metadata": {
    "collapsed": true
   },
   "outputs": [],
   "source": [
    "marker = itertools.cycle((\"o\", \"s\", \"^\", \"v\", \">\", \"<\", \"D\",\"*\")) \n",
    "def plot_correlations(num_of_days, values, labels, caption, figsize=(12,8)):\n",
    "    plt.figure(figsize=figsize)\n",
    "    for i in range(len(values)):\n",
    "        plt.plot(range(num_of_days-1),values[i],'-o',label=labels[i],marker=marker.next(),markersize='10')\n",
    "    plt.ylim(-1.0,1.1)\n",
    "    plt.legend()\n",
    "    plt.show()"
   ]
  },
  {
   "cell_type": "markdown",
   "metadata": {
    "collapsed": false
   },
   "source": [
    "label_list = [\"spearman model\",\"spearman data\",\"weighted spearman model\",\"weighted spearman data\"]\n",
    "plot_correlations(num_of_days,[opt_spearman,data_spearman,opt_w_spearman,data_w_spearman],label_list,\"Spearman's rho\")"
   ]
  },
  {
   "cell_type": "markdown",
   "metadata": {
    "collapsed": true
   },
   "source": [
    "## 1.) Model stability related to daily variations"
   ]
  },
  {
   "cell_type": "code",
   "execution_count": null,
   "metadata": {
    "collapsed": false
   },
   "outputs": [],
   "source": [
    "def test_stability_for_alpha(lambdas, num_samples):\n",
    "    rmse_arr = []\n",
    "    for selected_lambda in lambdas:\n",
    "        for i in xrange(num_samples):\n",
    "            sample_model = pm.PopularityModel(num_of_users, num_of_days)\n",
    "            x_act_leaders = sample_model.get_centrality_with_markov(p, p_overlap, lambda_=selected_lambda)\n",
    "            res = pmu.get_custom_correlations(x_act_leaders, num_of_days)\n",
    "            spearman, w_spearman = list(res[:,0]), list(res[:,1])\n",
    "            rmse_arr.append([selected_lambda, 'unweighted', pmu.rmse(data_spearman, spearman)])\n",
    "            rmse_arr.append([selected_lambda, 'weighted', pmu.rmse(data_w_spearman, w_spearman)])\n",
    "        print \"lambda=%f finished\" % selected_lambda\n",
    "    rmse_df = pd.DataFrame(np.array(rmse_arr), columns=[\"lambda\",\"type\",\"rmse\"])\n",
    "    rmse_df[\"rmse\"] = rmse_df[\"rmse\"].astype(\"float64\")\n",
    "    return rmse_df"
   ]
  },
  {
   "cell_type": "code",
   "execution_count": null,
   "metadata": {
    "collapsed": false,
    "scrolled": false
   },
   "outputs": [],
   "source": [
    "num_of_samples = 10\n",
    "rmse_corr = test_stability_for_alpha(lambdas,num_of_samples)"
   ]
  },
  {
   "cell_type": "code",
   "execution_count": null,
   "metadata": {
    "collapsed": false
   },
   "outputs": [],
   "source": [
    "rmse_corr.to_csv('./stability_spearman/%s_%i_kendall_stability_%i.csv' % (dataset_id, num_of_users, num_of_samples),sep=\";\")"
   ]
  },
  {
   "cell_type": "code",
   "execution_count": null,
   "metadata": {
    "collapsed": false
   },
   "outputs": [],
   "source": [
    "import graphlab\n",
    "data = graphlab.SFrame(rmse_corr)\n",
    "unweighted_rmse_corr = data[data[\"type\"] == \"unweighted\"]\n",
    "weighted_rmse_corr = data[data[\"type\"] == \"weighted\"]\n",
    "weighted_rmse_avg = weighted_rmse_corr.groupby(\"lambda\",{'rmse_avg':graphlab.aggregate.AVG('rmse')})\n",
    "weighted_rmse_std = weighted_rmse_corr.groupby(\"lambda\",{'rmse_std':graphlab.aggregate.STD('rmse')})\n",
    "weighted_rmse = weighted_rmse_avg.join(weighted_rmse_std,\"lambda\")\n",
    "unweighted_rmse_avg = unweighted_rmse_corr.groupby(\"lambda\",{'rmse_avg':graphlab.aggregate.AVG('rmse')})\n",
    "unweighted_rmse_std = unweighted_rmse_corr.groupby(\"lambda\",{'rmse_std':graphlab.aggregate.STD('rmse')})\n",
    "unweighted_rmse = unweighted_rmse_avg.join(unweighted_rmse_std,\"lambda\")\n",
    "weighted_rmse = weighted_rmse.to_dataframe()\n",
    "unweighted_rmse = unweighted_rmse.to_dataframe()"
   ]
  },
  {
   "cell_type": "code",
   "execution_count": null,
   "metadata": {
    "collapsed": false
   },
   "outputs": [],
   "source": [
    "marker = itertools.cycle((\"o\", \"s\", \"^\", \"v\", \">\", \"<\", \"D\",\"*\")) \n",
    "fig, axes = plt.subplots(figsize=(12,8))\n",
    "plt.errorbar(unweighted_rmse[\"lambda\"],unweighted_rmse[\"rmse_avg\"],yerr=unweighted_rmse[\"rmse_std\"],fmt='o',label=\"unweighted\",elinewidth=3,marker=marker.next(),markersize='10')\n",
    "plt.errorbar(weighted_rmse[\"lambda\"],weighted_rmse[\"rmse_avg\"],yerr=weighted_rmse[\"rmse_std\"],fmt='o',label=\"weighted\",elinewidth=3,marker=marker.next(),markersize='10')\n",
    "plt.legend()"
   ]
  },
  {
   "cell_type": "markdown",
   "metadata": {},
   "source": [
    "### RESULTS:\n",
    "\n",
    "   * The model is stable for unweighted spearman. The mean RMSE is very similar for all lambda (so far average is computed only from 10 samples)\n",
    "   * For lambda=0 weighted spearman is instable. For positive lambdas the mean RMSE is less than 0.1"
   ]
  },
  {
   "cell_type": "markdown",
   "metadata": {
    "collapsed": false
   },
   "source": [
    "plt.figure(figsize=(20,10))\n",
    "sns.boxplot(data=rmse_corr,x=\"lambda\",y=\"rmse\",hue=\"type\")\n",
    "plt.show()"
   ]
  },
  {
   "cell_type": "markdown",
   "metadata": {
    "collapsed": true
   },
   "source": [
    "## 2.) Model stability related to number of users"
   ]
  },
  {
   "cell_type": "markdown",
   "metadata": {
    "collapsed": false
   },
   "source": [
    "def test_stability_for_user_count(user_ratios, original_num_users, fixed_lambda, num_samples):\n",
    "    rmse_arr = []\n",
    "    for ratio in user_ratios:\n",
    "        for i in xrange(num_samples):\n",
    "            sample_model = pm.PopularityModel(int(math.ceil(original_num_users*ratio)), num_of_days)\n",
    "            x_act_leaders = sample_model.get_centrality_with_markov(p, p_overlap, lambda_=fixed_lambda)\n",
    "            res = pmu.get_custom_correlations(x_act_leaders, num_of_days)\n",
    "            spearman, w_spearman = list(res[:,0]), list(res[:,1])\n",
    "            rmse_arr.append([ratio, 'unweighted', pmu.rmse(data_spearman, spearman)])\n",
    "            rmse_arr.append([ratio, 'weighted', pmu.rmse(data_w_spearman, w_spearman)])\n",
    "        print \"ratio=%f finished\" % ratio\n",
    "    rmse_df = pd.DataFrame(np.array(rmse_arr), columns=[\"ratio\",\"type\",\"rmse\"])\n",
    "    rmse_df[\"rmse\"] = rmse_df[\"rmse\"].astype(\"float64\")\n",
    "    return rmse_df"
   ]
  },
  {
   "cell_type": "markdown",
   "metadata": {
    "collapsed": false,
    "scrolled": true
   },
   "source": [
    "rmse_corr = test_stability_for_user_count([0.1,0.5,1.0,10],num_of_users, 0.1, 10)"
   ]
  },
  {
   "cell_type": "markdown",
   "metadata": {},
   "source": [
    "### RESULTS:\n",
    "\n",
    "   * The model does not perform well for small user counts\n",
    "   * Especially weighted spearman gives incorrect results. I think that the reason for this is the very few number of leaders (e.g.: for maidan on the first day it is only **4 leader** - see the following computation...)\n",
    "   * For large number of users the model is stable for both unweighted and weighted spearman.\n",
    "   * Later I will do experiments with _ratio_>10 too..."
   ]
  },
  {
   "cell_type": "markdown",
   "metadata": {
    "collapsed": false
   },
   "source": [
    "(num_of_users * 0.1) * (0.018416 * 0.1) # N * q_1"
   ]
  },
  {
   "cell_type": "markdown",
   "metadata": {
    "collapsed": false
   },
   "source": [
    "plt.figure(figsize=(20,10))\n",
    "sns.boxplot(data=rmse_corr,x=\"ratio\",y=\"rmse\",hue=\"type\")\n",
    "plt.show()"
   ]
  },
  {
   "cell_type": "code",
   "execution_count": null,
   "metadata": {
    "collapsed": true
   },
   "outputs": [],
   "source": []
  }
 ],
 "metadata": {
  "kernelspec": {
   "display_name": "Python 2",
   "language": "python",
   "name": "python2"
  },
  "language_info": {
   "codemirror_mode": {
    "name": "ipython",
    "version": 2
   },
   "file_extension": ".py",
   "mimetype": "text/x-python",
   "name": "python",
   "nbconvert_exporter": "python",
   "pygments_lexer": "ipython2",
   "version": "2.7.11"
  }
 },
 "nbformat": 4,
 "nbformat_minor": 0
}
