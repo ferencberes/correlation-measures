{
 "cells": [
  {
   "cell_type": "code",
   "execution_count": null,
   "metadata": {
    "collapsed": false
   },
   "outputs": [],
   "source": [
    "from IPython.core.display import display, HTML\n",
    "display(HTML(\"<style>.container { width:100% !important; }</style>\"))"
   ]
  },
  {
   "cell_type": "code",
   "execution_count": null,
   "metadata": {
    "collapsed": false
   },
   "outputs": [],
   "source": [
    "import pandas as pd\n",
    "import numpy as np\n",
    "import re, math, itertools"
   ]
  },
  {
   "cell_type": "code",
   "execution_count": null,
   "metadata": {
    "collapsed": false
   },
   "outputs": [],
   "source": [
    "%matplotlib inline\n",
    "import matplotlib.pyplot as plt\n",
    "import seaborn as sns\n",
    "sns.set(font=\"Droid Sans\",font_scale = 2)\n",
    "sns.set_style(\"whitegrid\")\n",
    "sns.set_color_codes(\"dark\")"
   ]
  },
  {
   "cell_type": "code",
   "execution_count": null,
   "metadata": {
    "collapsed": false
   },
   "outputs": [],
   "source": [
    "import sys, os\n",
    "sys.path.insert(0,'../python/')\n",
    "import correlation.correlation_utils as cu\n",
    "import popularity_model.popularity_model as pm\n",
    "import popularity_model.popularity_model_utils as pmu"
   ]
  },
  {
   "cell_type": "markdown",
   "metadata": {},
   "source": [
    "# Choose dataset"
   ]
  },
  {
   "cell_type": "code",
   "execution_count": null,
   "metadata": {
    "collapsed": true
   },
   "outputs": [],
   "source": [
    "dataset_id = 'yo_pagerank'\n",
    "dataset_title = \"Yosoy\""
   ]
  },
  {
   "cell_type": "code",
   "execution_count": null,
   "metadata": {
    "collapsed": false
   },
   "outputs": [],
   "source": [
    "dataset_stat_file = \"../correlation_experiments/%s_results.csv\" % dataset_id\n",
    "stat_df = pd.read_csv(dataset_stat_file, sep=\" \")"
   ]
  },
  {
   "cell_type": "markdown",
   "metadata": {},
   "source": [
    "#### extract number of users in data"
   ]
  },
  {
   "cell_type": "code",
   "execution_count": null,
   "metadata": {
    "collapsed": false
   },
   "outputs": [],
   "source": [
    "print stat_df.columns[2]\n",
    "\n",
    "total_num_matcher = re.match(r'.*\\(total=(\\d+?)\\)', stat_df.columns[2], re.M|re.I)\n",
    "if not total_num_matcher:\n",
    "    raise RuntimeError(\"Column name does NOT match the regex!\")"
   ]
  },
  {
   "cell_type": "markdown",
   "metadata": {},
   "source": [
    "#### rename a column"
   ]
  },
  {
   "cell_type": "code",
   "execution_count": null,
   "metadata": {
    "collapsed": true
   },
   "outputs": [],
   "source": [
    "cols = list(stat_df.columns)\n",
    "cols[2] = \"fraction_of_active_nodes\"\n",
    "stat_df.columns = cols"
   ]
  },
  {
   "cell_type": "code",
   "execution_count": null,
   "metadata": {
    "collapsed": false
   },
   "outputs": [],
   "source": [
    "stat_df.head()"
   ]
  },
  {
   "cell_type": "code",
   "execution_count": null,
   "metadata": {
    "collapsed": true
   },
   "outputs": [],
   "source": [
    "num_of_users = int(total_num_matcher.group(1))\n",
    "num_of_days = len(stat_df)-1"
   ]
  },
  {
   "cell_type": "code",
   "execution_count": null,
   "metadata": {
    "collapsed": false
   },
   "outputs": [],
   "source": [
    "p = list(stat_df[\"fraction_of_active_nodes\"])[:num_of_days]\n",
    "p_overlap = list(stat_df[\"fraction_of_users_in_2day_intersections\"])[:num_of_days]"
   ]
  },
  {
   "cell_type": "markdown",
   "metadata": {},
   "source": [
    "# Correlations in real data"
   ]
  },
  {
   "cell_type": "code",
   "execution_count": null,
   "metadata": {
    "collapsed": true
   },
   "outputs": [],
   "source": [
    "data_spearman = list(stat_df[\"spearman\"])[:num_of_days-1]\n",
    "data_kendall = list(stat_df[\"kendall\"])[:num_of_days-1]\n",
    "data_w_kendall = list(stat_df[\"w_kendall\"])[:num_of_days-1]"
   ]
  },
  {
   "cell_type": "markdown",
   "metadata": {},
   "source": [
    "## Stability plot"
   ]
  },
  {
   "cell_type": "code",
   "execution_count": null,
   "metadata": {
    "collapsed": true
   },
   "outputs": [],
   "source": [
    "spearman_rmse_df = pd.read_csv('../final_plot_data/yo-0.2/spearman_stability.csv',sep=\";\")\n",
    "kendall_rmse_df = pd.read_csv('../final_plot_data/yo-0.2/kendall_stability.csv',sep=\";\")"
   ]
  },
  {
   "cell_type": "code",
   "execution_count": null,
   "metadata": {
    "collapsed": false
   },
   "outputs": [],
   "source": [
    "import graphlab\n",
    "data = graphlab.SFrame(kendall_rmse_df)\n",
    "unweighted_rmse_corr = data[data[\"type\"] == \"unweighted\"]\n",
    "weighted_rmse_corr = data[data[\"type\"] == \"weighted\"]\n",
    "weighted_rmse_avg = weighted_rmse_corr.groupby(\"lambda\",{'rmse_avg':graphlab.aggregate.AVG('rmse')})\n",
    "weighted_rmse_std = weighted_rmse_corr.groupby(\"lambda\",{'rmse_std':graphlab.aggregate.STD('rmse')})\n",
    "weighted_rmse = weighted_rmse_avg.join(weighted_rmse_std,\"lambda\")\n",
    "unweighted_rmse_avg = unweighted_rmse_corr.groupby(\"lambda\",{'rmse_avg':graphlab.aggregate.AVG('rmse')})\n",
    "unweighted_rmse_std = unweighted_rmse_corr.groupby(\"lambda\",{'rmse_std':graphlab.aggregate.STD('rmse')})\n",
    "unweighted_rmse = unweighted_rmse_avg.join(unweighted_rmse_std,\"lambda\")\n",
    "kendall_w_rmse = weighted_rmse.to_dataframe()\n",
    "kendall_rmse = unweighted_rmse.to_dataframe()"
   ]
  },
  {
   "cell_type": "markdown",
   "metadata": {},
   "source": [
    "spearman_rmse_df\n",
    "kendall_rmse_df"
   ]
  },
  {
   "cell_type": "code",
   "execution_count": null,
   "metadata": {
    "collapsed": false
   },
   "outputs": [],
   "source": [
    "import graphlab\n",
    "data = graphlab.SFrame(spearman_rmse_df)\n",
    "unweighted_rmse_corr = data[data[\"type\"] == \"unweighted\"]\n",
    "#weighted_rmse_corr = data[data[\"type\"] == \"weighted\"]\n",
    "#weighted_rmse_avg = weighted_rmse_corr.groupby(\"lambda\",{'rmse_avg':graphlab.aggregate.AVG('rmse')})\n",
    "#weighted_rmse_std = weighted_rmse_corr.groupby(\"lambda\",{'rmse_std':graphlab.aggregate.STD('rmse')})\n",
    "#weighted_rmse = weighted_rmse_avg.join(weighted_rmse_std,\"lambda\")\n",
    "unweighted_rmse_avg = unweighted_rmse_corr.groupby(\"lambda\",{'rmse_avg':graphlab.aggregate.AVG('rmse')})\n",
    "unweighted_rmse_std = unweighted_rmse_corr.groupby(\"lambda\",{'rmse_std':graphlab.aggregate.STD('rmse')})\n",
    "unweighted_rmse = unweighted_rmse_avg.join(unweighted_rmse_std,\"lambda\")\n",
    "#spearman_w_rmse = weighted_rmse.to_dataframe()\n",
    "spearman_rmse = unweighted_rmse.to_dataframe()"
   ]
  },
  {
   "cell_type": "code",
   "execution_count": null,
   "metadata": {
    "collapsed": false
   },
   "outputs": [],
   "source": [
    "marker = itertools.cycle((\"o\", \"s\", \"^\", \"v\", \">\", \"<\", \"D\",\"*\"))\n",
    "fig, axes = plt.subplots(figsize=(12,8))\n",
    "plt.title(dataset_title)\n",
    "plt.errorbar(spearman_rmse[\"lambda\"],spearman_rmse[\"rmse_avg\"],yerr=spearman_rmse[\"rmse_std\"],fmt='o',label=\"unweighted spearman\",elinewidth=3,marker=marker.next(),markersize='10')\n",
    "plt.errorbar(kendall_rmse[\"lambda\"],kendall_rmse[\"rmse_avg\"],yerr=kendall_rmse[\"rmse_std\"],fmt='o',label=\"unweighted kendall\",elinewidth=3,marker=marker.next(),markersize='10')\n",
    "plt.errorbar(kendall_w_rmse[\"lambda\"],kendall_w_rmse[\"rmse_avg\"],yerr=kendall_w_rmse[\"rmse_std\"],fmt='o',label=\"weighted kendall\",elinewidth=3,marker=marker.next(),markersize='10')\n",
    "plt.xlim(-0.03,1.0)\n",
    "plt.xlabel('Days')\n",
    "plt.ylabel('RMSE')\n",
    "plt.legend()\n",
    "plt.savefig('../final_plot_data/yo-0.2/yosoy_stability.png')"
   ]
  },
  {
   "cell_type": "markdown",
   "metadata": {},
   "source": [
    "# Utils"
   ]
  },
  {
   "cell_type": "code",
   "execution_count": null,
   "metadata": {
    "collapsed": true
   },
   "outputs": [],
   "source": [
    "def read_corr_file(f_name):\n",
    "    corrs = []\n",
    "    f = open(f_name)\n",
    "    for line in f:\n",
    "        corrs.append(float(line.rstrip()))\n",
    "    f.close()\n",
    "    return corrs"
   ]
  },
  {
   "cell_type": "markdown",
   "metadata": {},
   "source": [
    "# Popularity model"
   ]
  },
  {
   "cell_type": "code",
   "execution_count": null,
   "metadata": {
    "collapsed": false
   },
   "outputs": [],
   "source": [
    "opt_spearman = read_corr_file('../final_plot_data/yo-0.2/spearman_0.2.csv')"
   ]
  },
  {
   "cell_type": "code",
   "execution_count": null,
   "metadata": {
    "collapsed": false
   },
   "outputs": [],
   "source": [
    "opt_kendall = read_corr_file('../final_plot_data/yo-0.2/kendall_0.2.csv')"
   ]
  },
  {
   "cell_type": "code",
   "execution_count": null,
   "metadata": {
    "collapsed": false
   },
   "outputs": [],
   "source": [
    "opt_w_kendall = read_corr_file('../final_plot_data/yo-0.2/w_kendall_0.2.csv')"
   ]
  },
  {
   "cell_type": "code",
   "execution_count": null,
   "metadata": {
    "collapsed": true
   },
   "outputs": [],
   "source": [
    "marker = itertools.cycle((\"o\", \"s\", \"^\", \"v\", \">\", \"<\", \"D\",\"*\")) \n",
    "def plot_correlations(fig_path, num_of_days, values, labels, ylabel, ylim=(-1.0,1.1), figsize=(12,8)):\n",
    "    plt.figure(figsize=figsize)\n",
    "    plt.title(dataset_title)\n",
    "    ax = plt.subplot(111)\n",
    "    for i in range(len(values)):\n",
    "        ax.plot(range(num_of_days-1),values[i],'-o',label=labels[i],marker=marker.next(),markersize='10')\n",
    "    plt.xlim(-0.5,num_of_days-1)\n",
    "    plt.ylim(*ylim)\n",
    "    ax.set_xlabel('Days')\n",
    "    ax.set_ylabel(ylabel)\n",
    "    ax.legend(loc='lower center',bbox_to_anchor=(0.5, 0.0),ncol=3,fancybox=True,shadow=True)\n",
    "    plt.savefig(fig_path)\n",
    "    plt.show()"
   ]
  },
  {
   "cell_type": "code",
   "execution_count": null,
   "metadata": {
    "collapsed": false
   },
   "outputs": [],
   "source": [
    "label_list = [\"spearman model\",\"spearman data\",\"kendall model\",\"kendall data\",\"weighted kendall model\",\"weighted kendall data\"]\n",
    "plot_correlations('../final_plot_data/yo-0.2/yo_0.2.png',num_of_days,[opt_spearman,data_spearman,opt_kendall,data_kendall,opt_w_kendall,data_w_kendall],label_list,'Correlation measure')"
   ]
  },
  {
   "cell_type": "markdown",
   "metadata": {
    "collapsed": true
   },
   "source": [
    "# Difference plot"
   ]
  },
  {
   "cell_type": "code",
   "execution_count": null,
   "metadata": {
    "collapsed": false
   },
   "outputs": [],
   "source": [
    "spearman_diff = list(np.array(opt_spearman) - np.array(data_spearman))\n",
    "kendall_diff = list(np.array(opt_kendall) - np.array(data_kendall))\n",
    "w_kendall_diff = list(np.array(opt_w_kendall) - np.array(data_w_kendall))"
   ]
  },
  {
   "cell_type": "code",
   "execution_count": null,
   "metadata": {
    "collapsed": false
   },
   "outputs": [],
   "source": [
    "label_list = [\"spearman\",\"kendall\",\"weighted kendall\"]\n",
    "plot_correlations('../final_plot_data/yo-0.2//yo_0.2_diff.png',num_of_days,[spearman_diff,kendall_diff,w_kendall_diff],label_list,'Correlation difference')#,ylim=(-0.6,0.6))"
   ]
  },
  {
   "cell_type": "code",
   "execution_count": null,
   "metadata": {
    "collapsed": true
   },
   "outputs": [],
   "source": []
  }
 ],
 "metadata": {
  "kernelspec": {
   "display_name": "Python 2",
   "language": "python",
   "name": "python2"
  },
  "language_info": {
   "codemirror_mode": {
    "name": "ipython",
    "version": 2
   },
   "file_extension": ".py",
   "mimetype": "text/x-python",
   "name": "python",
   "nbconvert_exporter": "python",
   "pygments_lexer": "ipython2",
   "version": "2.7.11"
  }
 },
 "nbformat": 4,
 "nbformat_minor": 0
}
