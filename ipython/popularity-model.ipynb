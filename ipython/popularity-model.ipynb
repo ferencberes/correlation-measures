{
 "cells": [
  {
   "cell_type": "code",
   "execution_count": null,
   "metadata": {
    "collapsed": false
   },
   "outputs": [],
   "source": [
    "import pandas as pd\n",
    "import numpy as np\n",
    "import seaborn as sns\n",
    "import re, math"
   ]
  },
  {
   "cell_type": "code",
   "execution_count": null,
   "metadata": {
    "collapsed": false
   },
   "outputs": [],
   "source": [
    "%matplotlib inline\n",
    "import matplotlib.pyplot as plt"
   ]
  },
  {
   "cell_type": "code",
   "execution_count": null,
   "metadata": {
    "collapsed": false
   },
   "outputs": [],
   "source": [
    "import sys\n",
    "\n",
    "sys.path.insert(0,'../python/')\n",
    "import correlation.correlation_utils as cu"
   ]
  },
  {
   "cell_type": "markdown",
   "metadata": {},
   "source": [
    "# Choose dataset"
   ]
  },
  {
   "cell_type": "code",
   "execution_count": null,
   "metadata": {
    "collapsed": true
   },
   "outputs": [],
   "source": [
    "dataset_id = 'yo_pagerank'"
   ]
  },
  {
   "cell_type": "code",
   "execution_count": null,
   "metadata": {
    "collapsed": true
   },
   "outputs": [],
   "source": [
    "dataset_stat_file = \"../correlation_experiments/%s_results.csv\" % dataset_id\n",
    "stat_df = pd.read_csv(dataset_stat_file, sep=\" \")"
   ]
  },
  {
   "cell_type": "markdown",
   "metadata": {},
   "source": [
    "#### extract number of users in data"
   ]
  },
  {
   "cell_type": "code",
   "execution_count": null,
   "metadata": {
    "collapsed": false
   },
   "outputs": [],
   "source": [
    "print stat_df.columns[2]\n",
    "\n",
    "total_num_matcher = re.match(r'.*\\(total=(\\d+?)\\)', stat_df.columns[2], re.M|re.I)\n",
    "if not total_num_matcher:\n",
    "    raise RuntimeError(\"Column name does NOT match the regex!\")"
   ]
  },
  {
   "cell_type": "markdown",
   "metadata": {},
   "source": [
    "#### rename a column"
   ]
  },
  {
   "cell_type": "code",
   "execution_count": null,
   "metadata": {
    "collapsed": true
   },
   "outputs": [],
   "source": [
    "cols = list(stat_df.columns)\n",
    "cols[2] = \"fraction_of_active_nodes\"\n",
    "stat_df.columns = cols"
   ]
  },
  {
   "cell_type": "code",
   "execution_count": null,
   "metadata": {
    "collapsed": false
   },
   "outputs": [],
   "source": [
    "stat_df.head()"
   ]
  },
  {
   "cell_type": "code",
   "execution_count": null,
   "metadata": {
    "collapsed": true
   },
   "outputs": [],
   "source": [
    "num_of_users = int(total_num_matcher.group(1))\n",
    "num_of_days = len(stat_df)-1"
   ]
  },
  {
   "cell_type": "code",
   "execution_count": null,
   "metadata": {
    "collapsed": false
   },
   "outputs": [],
   "source": [
    "p = list(stat_df[\"fraction_of_active_nodes\"])[:num_of_days]\n",
    "p_overlap = list(stat_df[\"fraction_of_users_in_2day_intersections\"])[:num_of_days]"
   ]
  },
  {
   "cell_type": "markdown",
   "metadata": {},
   "source": [
    "# Correlations in real data"
   ]
  },
  {
   "cell_type": "code",
   "execution_count": null,
   "metadata": {
    "collapsed": true
   },
   "outputs": [],
   "source": [
    "data_spearman = list(stat_df[\"spearman\"])[:num_of_days-1]\n",
    "data_w_spearman = list(stat_df[\"w_spearman\"])[:num_of_days-1]\n",
    "data_kendall = list(stat_df[\"kendall\"])[:num_of_days-1]\n",
    "data_w_kendall = list(stat_df[\"w_kendall\"])[:num_of_days-1]"
   ]
  },
  {
   "cell_type": "markdown",
   "metadata": {},
   "source": [
    "# Popularity model"
   ]
  },
  {
   "cell_type": "markdown",
   "metadata": {},
   "source": [
    "num_of_users = 10000\n",
    "num_of_days = 10"
   ]
  },
  {
   "cell_type": "code",
   "execution_count": null,
   "metadata": {
    "collapsed": false
   },
   "outputs": [],
   "source": [
    "print num_of_users, num_of_days"
   ]
  },
  {
   "cell_type": "code",
   "execution_count": null,
   "metadata": {
    "collapsed": true
   },
   "outputs": [],
   "source": [
    "def reverse_sort(a):\n",
    "    a.sort(axis=0)\n",
    "    return a[::-1]"
   ]
  },
  {
   "cell_type": "markdown",
   "metadata": {},
   "source": [
    "### I. user popularity"
   ]
  },
  {
   "cell_type": "code",
   "execution_count": null,
   "metadata": {
    "collapsed": false
   },
   "outputs": [],
   "source": [
    "coef = 1.5\n",
    "U = np.random.pareto(coef, size=num_of_users)\n",
    "U = reverse_sort(U)"
   ]
  },
  {
   "cell_type": "code",
   "execution_count": null,
   "metadata": {
    "collapsed": false
   },
   "outputs": [],
   "source": [
    "ax = sns.distplot(U)"
   ]
  },
  {
   "cell_type": "markdown",
   "metadata": {},
   "source": [
    "### II. daily variations"
   ]
  },
  {
   "cell_type": "code",
   "execution_count": null,
   "metadata": {
    "collapsed": true
   },
   "outputs": [],
   "source": [
    "alpha = np.random.exponential(scale=1.0, size=(num_of_days, num_of_users))"
   ]
  },
  {
   "cell_type": "markdown",
   "metadata": {
    "collapsed": false
   },
   "source": [
    "print num_of_users * num_of_days\n",
    "print np.count_nonzero(alpha)"
   ]
  },
  {
   "cell_type": "code",
   "execution_count": null,
   "metadata": {
    "collapsed": false,
    "scrolled": true
   },
   "outputs": [],
   "source": [
    "ax = sns.distplot(alpha[:,0])"
   ]
  },
  {
   "cell_type": "markdown",
   "metadata": {},
   "source": [
    "### III. calculate daily centrality scores (without Markov model)"
   ]
  },
  {
   "cell_type": "code",
   "execution_count": null,
   "metadata": {
    "collapsed": false
   },
   "outputs": [],
   "source": [
    "X = alpha * U"
   ]
  },
  {
   "cell_type": "code",
   "execution_count": null,
   "metadata": {
    "collapsed": false
   },
   "outputs": [],
   "source": [
    "ax = sns.distplot(X[0,:])"
   ]
  },
  {
   "cell_type": "markdown",
   "metadata": {},
   "source": [
    "### IV. Introducing Markov model with leaders"
   ]
  },
  {
   "cell_type": "code",
   "execution_count": null,
   "metadata": {
    "collapsed": false
   },
   "outputs": [],
   "source": [
    "def list_subset(l,idx,exclusive=False):\n",
    "    l_idx = [l[i] for i in idx] \n",
    "    if exclusive:\n",
    "        return list(set(l)-set(l_idx))\n",
    "    else:\n",
    "        return l_idx"
   ]
  },
  {
   "cell_type": "code",
   "execution_count": null,
   "metadata": {
    "collapsed": false
   },
   "outputs": [],
   "source": [
    "def binornd(n,p):\n",
    "    probs = np.zeros(n)\n",
    "    #indeces = np.random.binomial(n,p,size=n)\n",
    "    #for i in indeces:\n",
    "    for i in range(n):\n",
    "        if np.random.rand(1) < p:\n",
    "            probs[i] = 1.0\n",
    "    return probs"
   ]
  },
  {
   "cell_type": "code",
   "execution_count": null,
   "metadata": {
    "collapsed": false
   },
   "outputs": [],
   "source": [
    "def get_centrality_with_markov(lambda_, X, p, p_overlap, num_of_days, num_of_users):\n",
    "    leader_index = lambda_\n",
    "    m = num_of_days\n",
    "    n = num_of_users\n",
    "    intersection = p_overlap\n",
    "\n",
    "    prob_set = np.zeros((m,n))\n",
    "    Jaccard = np.zeros((m-1,1));\n",
    "    q=np.zeros((m-1,1));\n",
    "    u_index = range(num_of_users)\n",
    "    intersection1 = np.zeros((m-1,1));\n",
    "\n",
    "    for i in xrange(0,m-1):      \n",
    "        Jaccard[i] = intersection[i] / (p[i]+p[i+1]-intersection[i])\n",
    "    \n",
    "        leader_fraction = intersection[i] * leader_index\n",
    "        intersection1[i] = intersection[i] - leader_fraction\n",
    "        q[i] = p[i] - leader_fraction\n",
    "    \n",
    "        leader_set = u_index[:int(math.ceil(n*leader_fraction))]\n",
    "        user_set = list_subset(u_index,leader_set,exclusive=True)\n",
    "        n1=len(user_set)\n",
    "    \n",
    "        # active users day 1\n",
    "        if i==0:       \n",
    "            prob_set[i,leader_set] = np.ones(len(leader_set)) \n",
    "            prob_set[i,user_set] = binornd(n1,q[i]) # in Nelly code it was p(i) -> q[i] is the correct value!!!\n",
    "    \n",
    "        # active users day i+1\n",
    "        p_mix1 = intersection1[i] / q[i] # probability of non-leader occuring on next day (OK)\n",
    "        p_mix0 = (p[i+1]-intersection[i]) / (1-q[i])\n",
    "        prob_set[i+1,leader_set] = np.ones(len(leader_set))\n",
    "        prob_set[i+1,user_set] = prob_set[i,user_set] * binornd(n1,p_mix1) + (1-prob_set[i,user_set]) * binornd(n1,p_mix0);\n",
    "\n",
    "    return X * prob_set, prob_set"
   ]
  },
  {
   "cell_type": "markdown",
   "metadata": {},
   "source": [
    "# Experiments"
   ]
  },
  {
   "cell_type": "code",
   "execution_count": null,
   "metadata": {
    "collapsed": false
   },
   "outputs": [],
   "source": [
    "def plot_correlations(num_of_days, values, labels, caption, figsize=(10,5)):\n",
    "    plt.figure(figsize=figsize)\n",
    "    plt.title(caption)\n",
    "    for i in range(len(values)):\n",
    "        plt.plot(range(num_of_days-1),values[i],'-o',label=labels[i])\n",
    "    plt.ylim(-0.55,1.1)\n",
    "    plt.legend()\n",
    "    plt.show()"
   ]
  },
  {
   "cell_type": "code",
   "execution_count": null,
   "metadata": {
    "collapsed": true
   },
   "outputs": [],
   "source": [
    "import scipy.stats as stats\n",
    "\n",
    "def get_correlations(A, num_of_days):\n",
    "    pearson, spearman = [], []\n",
    "    for i in xrange(1,num_of_days):\n",
    "        pearson.append(stats.pearsonr(A[i-1,:],A[i,:])[0])\n",
    "        spearman.append(stats.spearmanr(A[i-1,:],A[i,:])[0])\n",
    "    return pearson, spearman"
   ]
  },
  {
   "cell_type": "markdown",
   "metadata": {},
   "source": [
    "## 1.) correlations without Markov model"
   ]
  },
  {
   "cell_type": "code",
   "execution_count": null,
   "metadata": {
    "collapsed": false
   },
   "outputs": [],
   "source": [
    "pearson, spearman = get_correlations(X, num_of_days)\n",
    "plot_correlations(num_of_days,[spearman,pearson],['spearman','pearson'],\"Correlations\")\n",
    "plot_correlations(num_of_days,[spearman,data_spearman],['model','data'],\"Spearman's rho\")"
   ]
  },
  {
   "cell_type": "markdown",
   "metadata": {},
   "source": [
    "## 2.) correlations with Markov model\n",
    "\n",
    "**Problems:**\n",
    "\n",
    "   * Spearman correlation is still positive\n",
    "   * Pearson correlation indicates independence between consecutive days!"
   ]
  },
  {
   "cell_type": "code",
   "execution_count": null,
   "metadata": {
    "collapsed": true
   },
   "outputs": [],
   "source": [
    "X_act = get_centrality_with_markov(0.0, X, p, p_overlap, num_of_days, num_of_users)[0]"
   ]
  },
  {
   "cell_type": "markdown",
   "metadata": {},
   "source": [
    "X_act.T[:50,:2]"
   ]
  },
  {
   "cell_type": "code",
   "execution_count": null,
   "metadata": {
    "collapsed": false
   },
   "outputs": [],
   "source": [
    "pearson, spearman = get_correlations(X_act, num_of_days)\n",
    "plot_correlations(num_of_days,[spearman,pearson],['spearman','pearson'],\"Correlations\")\n",
    "plot_correlations(num_of_days,[spearman,data_spearman],['model','data'],\"Spearman's rho\")"
   ]
  },
  {
   "cell_type": "markdown",
   "metadata": {},
   "source": [
    "## 3.) correlations with Markov model and Leaders\n",
    "\n",
    "**Problems:**\n",
    "\n",
    "   * Spearman correlation is still positive\n"
   ]
  },
  {
   "cell_type": "code",
   "execution_count": null,
   "metadata": {
    "collapsed": true
   },
   "outputs": [],
   "source": [
    "X_act_leaders = get_centrality_with_markov(0.1, X, p, p_overlap, num_of_days, num_of_users)[0]"
   ]
  },
  {
   "cell_type": "code",
   "execution_count": null,
   "metadata": {
    "collapsed": false
   },
   "outputs": [],
   "source": [
    "pearson, spearman = get_correlations(X_act_leaders, num_of_days)\n",
    "plot_correlations(num_of_days,[spearman,pearson],['spearman','pearson'],\"Correlations\")\n",
    "plot_correlations(num_of_days,[spearman,data_spearman],['model','data'],\"Spearman's rho\")"
   ]
  },
  {
   "cell_type": "markdown",
   "metadata": {
    "collapsed": true
   },
   "source": [
    "# Export centrality scores"
   ]
  },
  {
   "cell_type": "code",
   "execution_count": null,
   "metadata": {
    "collapsed": true
   },
   "outputs": [],
   "source": [
    "import os\n",
    "\n",
    "def export_daily_scores(output_folder, M):\n",
    "    if not os.path.exists(output_folder):\n",
    "        os.makedirs(output_folder)\n",
    "    for i in range(num_of_days):\n",
    "        f = open(output_folder + '/centrality_scores_%i.txt' % i,'w')\n",
    "        for j in range(num_of_users):\n",
    "            if M[i,j] > 0.0:\n",
    "                f.write('%i %f\\n' % (j,M[i,j]))\n",
    "        f.close()\n",
    "    print 'Daily scores were exported to files.'                "
   ]
  },
  {
   "cell_type": "code",
   "execution_count": null,
   "metadata": {
    "collapsed": false
   },
   "outputs": [],
   "source": [
    "export_daily_scores('../correlation_experiments/%s_nelly_model/centrality_scores/' % dataset_id, X)"
   ]
  },
  {
   "cell_type": "code",
   "execution_count": null,
   "metadata": {
    "collapsed": false
   },
   "outputs": [],
   "source": [
    "export_daily_scores('../correlation_experiments/%s_nelly_model_markov/centrality_scores/' % dataset_id, X_act)"
   ]
  },
  {
   "cell_type": "code",
   "execution_count": null,
   "metadata": {
    "collapsed": false
   },
   "outputs": [],
   "source": [
    "export_daily_scores('../correlation_experiments/%s_nelly_model_leaders/centrality_scores/' % dataset_id, X_act_leaders)"
   ]
  },
  {
   "cell_type": "code",
   "execution_count": null,
   "metadata": {
    "collapsed": false
   },
   "outputs": [],
   "source": [
    "recomp_df = pd.read_csv('../nelly_corr_markov_leader.txt',sep=\" \", names=[\"idx\",\"spearman\",\"w_spearman\"])\n",
    "recomp_df.head()"
   ]
  },
  {
   "cell_type": "code",
   "execution_count": null,
   "metadata": {
    "collapsed": true
   },
   "outputs": [],
   "source": [
    "recomp_spearman = list(recomp_df[\"spearman\"])"
   ]
  },
  {
   "cell_type": "code",
   "execution_count": null,
   "metadata": {
    "collapsed": false
   },
   "outputs": [],
   "source": [
    "plot_correlations(num_of_days,[recomp_spearman,data_spearman],['model','data'],\"Spearman's rho\")"
   ]
  },
  {
   "cell_type": "code",
   "execution_count": null,
   "metadata": {
    "collapsed": true
   },
   "outputs": [],
   "source": []
  }
 ],
 "metadata": {
  "kernelspec": {
   "display_name": "Python 2",
   "language": "python",
   "name": "python2"
  },
  "language_info": {
   "codemirror_mode": {
    "name": "ipython",
    "version": 2
   },
   "file_extension": ".py",
   "mimetype": "text/x-python",
   "name": "python",
   "nbconvert_exporter": "python",
   "pygments_lexer": "ipython2",
   "version": "2.7.11"
  }
 },
 "nbformat": 4,
 "nbformat_minor": 0
}
