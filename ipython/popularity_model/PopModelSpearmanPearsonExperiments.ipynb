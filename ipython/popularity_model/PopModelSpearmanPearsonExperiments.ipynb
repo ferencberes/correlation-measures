{
 "cells": [
  {
   "cell_type": "code",
   "execution_count": null,
   "metadata": {
    "collapsed": false
   },
   "outputs": [],
   "source": [
    "import pandas as pd\n",
    "import numpy as np\n",
    "import seaborn as sns\n",
    "import math"
   ]
  },
  {
   "cell_type": "code",
   "execution_count": null,
   "metadata": {
    "collapsed": false
   },
   "outputs": [],
   "source": [
    "%matplotlib inline\n",
    "import matplotlib.pyplot as plt"
   ]
  },
  {
   "cell_type": "code",
   "execution_count": null,
   "metadata": {
    "collapsed": false
   },
   "outputs": [],
   "source": [
    "import sys\n",
    "\n",
    "sys.path.insert(0,'../../python/')\n",
    "import correlation_new.correlation_computer as cc\n",
    "import correlation_new.correlation_utils_new as cu\n",
    "import popularity_model.popularity_model as pm"
   ]
  },
  {
   "cell_type": "markdown",
   "metadata": {},
   "source": [
    "# Choose dataset"
   ]
  },
  {
   "cell_type": "code",
   "execution_count": null,
   "metadata": {
    "collapsed": true
   },
   "outputs": [],
   "source": [
    "dataset_id = 'maidan'\n",
    "measure_id = 'in_degree'\n",
    "LAMBDA = 0.1\n",
    "\n",
    "input_prefix = \"/mnt/idms/fberes/NETWORK/andreas_article/results/corr_and_stats/\""
   ]
  },
  {
   "cell_type": "code",
   "execution_count": null,
   "metadata": {
    "collapsed": false
   },
   "outputs": [],
   "source": [
    "dataset_stat_file = input_prefix + \"/%s_%s.csv\" % (dataset_id, measure_id)\n",
    "stat_df = pd.read_csv(dataset_stat_file, sep=\" \")"
   ]
  },
  {
   "cell_type": "code",
   "execution_count": null,
   "metadata": {
    "collapsed": false
   },
   "outputs": [],
   "source": [
    "stat_df.head()"
   ]
  },
  {
   "cell_type": "markdown",
   "metadata": {},
   "source": [
    "#### extract dataset sizes"
   ]
  },
  {
   "cell_type": "code",
   "execution_count": null,
   "metadata": {
    "collapsed": false
   },
   "outputs": [],
   "source": [
    "num_of_days = len(stat_df)\n",
    "num_of_users = 0\n",
    "with open(input_prefix + \"/%s_total_vertex_count.txt\" % (dataset_id)) as f:\n",
    "    num_of_users = int(f.readline())\n",
    "if num_of_users == 0:\n",
    "    raise RuntimeError('Invalid total vertex count!')"
   ]
  },
  {
   "cell_type": "code",
   "execution_count": null,
   "metadata": {
    "collapsed": false
   },
   "outputs": [],
   "source": [
    "print num_of_users, num_of_days"
   ]
  },
  {
   "cell_type": "code",
   "execution_count": null,
   "metadata": {
    "collapsed": false
   },
   "outputs": [],
   "source": [
    "p = list(stat_df[\"prev_day_frac\"])[:num_of_days]\n",
    "p_overlap = list(stat_df[\"overlap_frac\"])[:num_of_days]"
   ]
  },
  {
   "cell_type": "markdown",
   "metadata": {},
   "source": [
    "# Correlations in real data"
   ]
  },
  {
   "cell_type": "code",
   "execution_count": null,
   "metadata": {
    "collapsed": true
   },
   "outputs": [],
   "source": [
    "data_pearson = list(stat_df[\"pearson\"])[:num_of_days-1]\n",
    "data_spearman = list(stat_df[\"spearman\"])[:num_of_days-1]"
   ]
  },
  {
   "cell_type": "code",
   "execution_count": null,
   "metadata": {
    "collapsed": false
   },
   "outputs": [],
   "source": [
    "len(data_pearson)"
   ]
  },
  {
   "cell_type": "markdown",
   "metadata": {},
   "source": [
    "# Popularity model"
   ]
  },
  {
   "cell_type": "code",
   "execution_count": null,
   "metadata": {
    "collapsed": false
   },
   "outputs": [],
   "source": [
    "model = pm.PopularityModel(num_of_users, num_of_days)"
   ]
  },
  {
   "cell_type": "markdown",
   "metadata": {
    "collapsed": false
   },
   "source": [
    "### I. popularity of users"
   ]
  },
  {
   "cell_type": "code",
   "execution_count": null,
   "metadata": {
    "collapsed": false
   },
   "outputs": [],
   "source": [
    "ax = sns.distplot(model.U)"
   ]
  },
  {
   "cell_type": "markdown",
   "metadata": {},
   "source": [
    "### II. daily variations"
   ]
  },
  {
   "cell_type": "code",
   "execution_count": null,
   "metadata": {
    "collapsed": false,
    "scrolled": true
   },
   "outputs": [],
   "source": [
    "ax = sns.distplot(model.alpha[:,0])"
   ]
  },
  {
   "cell_type": "markdown",
   "metadata": {},
   "source": [
    "### III. calculate daily centrality scores (without Markov model)"
   ]
  },
  {
   "cell_type": "code",
   "execution_count": null,
   "metadata": {
    "collapsed": false
   },
   "outputs": [],
   "source": [
    "ax = sns.distplot(model.X[0,:])"
   ]
  },
  {
   "cell_type": "markdown",
   "metadata": {},
   "source": [
    "### IV. Introducing Markov model without leaders"
   ]
  },
  {
   "cell_type": "code",
   "execution_count": null,
   "metadata": {
    "collapsed": false
   },
   "outputs": [],
   "source": [
    "X_act = model.get_centrality_with_markov(p, p_overlap)"
   ]
  },
  {
   "cell_type": "markdown",
   "metadata": {},
   "source": [
    "### V. Introducing Markov model with leaders"
   ]
  },
  {
   "cell_type": "code",
   "execution_count": null,
   "metadata": {
    "collapsed": false
   },
   "outputs": [],
   "source": [
    "X_act_leaders = model.get_centrality_with_markov(p, p_overlap, lambda_=LAMBDA)"
   ]
  },
  {
   "cell_type": "markdown",
   "metadata": {},
   "source": [
    "# Experiments"
   ]
  },
  {
   "cell_type": "code",
   "execution_count": null,
   "metadata": {
    "collapsed": false
   },
   "outputs": [],
   "source": [
    "def plot_correlations(num_of_days, values, labels, caption, figsize=(10,5)):\n",
    "    plt.figure(figsize=figsize)\n",
    "    plt.title(caption)\n",
    "    for i in range(len(values)):\n",
    "        plt.plot(range(num_of_days-1),values[i],'-o',label=labels[i])\n",
    "    plt.ylim(-1.0,1.1)\n",
    "    plt.legend()\n",
    "    plt.show()"
   ]
  },
  {
   "cell_type": "markdown",
   "metadata": {},
   "source": [
    "## 1.) correlations without Markov model"
   ]
  },
  {
   "cell_type": "markdown",
   "metadata": {},
   "source": [
    "#### correlations for all vertices\n",
    "\n",
    "   * there is no fit to real data (spearman)\n",
    "   * pearson is quite instable"
   ]
  },
  {
   "cell_type": "code",
   "execution_count": null,
   "metadata": {
    "collapsed": false
   },
   "outputs": [],
   "source": [
    "model_pearson = cu.get_correlations_from_matrix(model.X, num_of_days, corr_type='pearson')\n",
    "model_spearman = cu.get_correlations_from_matrix(model.X, num_of_days, corr_type='spearman')\n",
    "label_list = ['pearson_model','pearson_data','spearman_model','spearman_data']\n",
    "plot_correlations(num_of_days,[model_pearson, data_pearson, model_spearman,data_spearman],label_list,\"Correlations (all)\")"
   ]
  },
  {
   "cell_type": "markdown",
   "metadata": {},
   "source": [
    "#### correlations for only active vertices\n",
    "\n",
    "   * result are the same as for \"all vertices\" scenario"
   ]
  },
  {
   "cell_type": "code",
   "execution_count": null,
   "metadata": {
    "collapsed": false
   },
   "outputs": [],
   "source": [
    "act_model_pearson = cu.get_correlations_from_matrix_for_act(model.X, num_of_days, corr_type='pearson')\n",
    "act_model_spearman = cu.get_correlations_from_matrix_for_act(model.X, num_of_days, corr_type='spearman')\n",
    "label_list = ['pearson_model','pearson_data','spearman_model','spearman_data']\n",
    "plot_correlations(num_of_days,[act_model_pearson, data_pearson, act_model_spearman, data_spearman],label_list,\"Correlations (active)\")"
   ]
  },
  {
   "cell_type": "markdown",
   "metadata": {},
   "source": [
    "## 2.) correlations with Markov model"
   ]
  },
  {
   "cell_type": "markdown",
   "metadata": {},
   "source": [
    "#### correlations for all vertices\n",
    "\n",
    "   * there is still no fit for spearman"
   ]
  },
  {
   "cell_type": "code",
   "execution_count": null,
   "metadata": {
    "collapsed": false
   },
   "outputs": [],
   "source": [
    "model_pearson = cu.get_correlations_from_matrix(X_act, num_of_days, corr_type='pearson')\n",
    "model_spearman = cu.get_correlations_from_matrix(X_act, num_of_days, corr_type='spearman')\n",
    "label_list = ['pearson_model','pearson_data','spearman_model','spearman_data']\n",
    "plot_correlations(num_of_days,[model_pearson, data_pearson, model_spearman,data_spearman],label_list,\"Correlations (all)\")"
   ]
  },
  {
   "cell_type": "markdown",
   "metadata": {},
   "source": [
    "#### correlations for only active vertices\n",
    "\n",
    "   * there is a good fit for spearman"
   ]
  },
  {
   "cell_type": "code",
   "execution_count": null,
   "metadata": {
    "collapsed": false
   },
   "outputs": [],
   "source": [
    "act_model_pearson = cu.get_correlations_from_matrix_for_act(X_act, num_of_days, corr_type='pearson')\n",
    "act_model_spearman = cu.get_correlations_from_matrix_for_act(X_act, num_of_days, corr_type='spearman')\n",
    "label_list = ['pearson_model','pearson_data','spearman_model','spearman_data']\n",
    "plot_correlations(num_of_days,[act_model_pearson, data_pearson, act_model_spearman, data_spearman],label_list,\"Correlations (active)\")"
   ]
  },
  {
   "cell_type": "markdown",
   "metadata": {},
   "source": [
    "## 3.) correlations with Markov model and Leaders"
   ]
  },
  {
   "cell_type": "code",
   "execution_count": null,
   "metadata": {
    "collapsed": false
   },
   "outputs": [],
   "source": [
    "from sklearn.metrics import mean_squared_error\n",
    "import math\n",
    "\n",
    "def rmse(original_values, model_values):\n",
    "    return math.sqrt(mean_squared_error(original_values, model_values))\n",
    "\n",
    "def get_result_for_lambda(proposed_lambda, pop_model, prob, prob_overlap, number_of_days, corr_type):\n",
    "    scores_with_leaders = pop_model.get_centrality_with_markov(prob, prob_overlap, lambda_=proposed_lambda)\n",
    "    corr = cu.get_correlations_from_matrix_for_act(scores_with_leaders, number_of_days,corr_type)\n",
    "    return corr, scores_with_leaders\n",
    "\n",
    "def get_opt_lambda_for_model(proposed_lambdas, pop_model, prob, prob_overlap, number_of_days, original_corr_values, corr_type):\n",
    "    opt_lambda = proposed_lambdas[0]\n",
    "    (opt_corr, opt_scores) = get_result_for_lambda(opt_lambda, pop_model, prob, prob_overlap, number_of_days, corr_type)\n",
    "    opt_diff = rmse(original_corr_values, opt_corr)\n",
    "    print opt_lambda, opt_diff\n",
    "    for i in range(1, len(proposed_lambdas)):\n",
    "        current_lambda = proposed_lambdas[i]\n",
    "        (current_corr, current_scores) = get_result_for_lambda(current_lambda, pop_model, prob, prob_overlap, number_of_days, corr_type)\n",
    "        current_diff = rmse(original_corr_values, current_corr)\n",
    "        print current_lambda, current_diff\n",
    "        if current_diff < opt_diff:\n",
    "            opt_lambda = current_lambda\n",
    "            opt_corr = current_corr\n",
    "            opt_scores = current_scores\n",
    "            opt_diff = current_diff\n",
    "    return (opt_lambda, opt_corr, opt_diff, opt_scores)"
   ]
  },
  {
   "cell_type": "markdown",
   "metadata": {},
   "source": [
    "### Search for optimal _lambda_ parameter"
   ]
  },
  {
   "cell_type": "code",
   "execution_count": null,
   "metadata": {
    "collapsed": false
   },
   "outputs": [],
   "source": [
    "lambdas = np.linspace(0.0, 1.0, num=11)\n",
    "print lambdas"
   ]
  },
  {
   "cell_type": "code",
   "execution_count": null,
   "metadata": {
    "collapsed": false
   },
   "outputs": [],
   "source": [
    "(opt_lambda, opt_spearman, opt_diff, X_act_leaders) = get_opt_lambda_for_model(lambdas, model, p, p_overlap, num_of_days, data_spearman, corr_type='spearman')"
   ]
  },
  {
   "cell_type": "code",
   "execution_count": null,
   "metadata": {
    "collapsed": false
   },
   "outputs": [],
   "source": [
    "print opt_lambda"
   ]
  },
  {
   "cell_type": "markdown",
   "metadata": {},
   "source": [
    "#### correlations for all vertices"
   ]
  },
  {
   "cell_type": "code",
   "execution_count": null,
   "metadata": {
    "collapsed": false
   },
   "outputs": [],
   "source": [
    "model_pearson = cu.get_correlations_from_matrix(X_act_leaders, num_of_days, corr_type='pearson')\n",
    "model_spearman = cu.get_correlations_from_matrix(X_act_leaders, num_of_days, corr_type='spearman')\n",
    "label_list = ['pearson_model','pearson_data','spearman_model','spearman_data']\n",
    "plot_correlations(num_of_days,[model_pearson, data_pearson, model_spearman,data_spearman],label_list,\"Correlations (all)\")"
   ]
  },
  {
   "cell_type": "markdown",
   "metadata": {},
   "source": [
    "#### correlations for only active vertices"
   ]
  },
  {
   "cell_type": "code",
   "execution_count": null,
   "metadata": {
    "collapsed": false
   },
   "outputs": [],
   "source": [
    "act_model_pearson = cu.get_correlations_from_matrix_for_act(X_act_leaders, num_of_days, corr_type='pearson')\n",
    "act_model_spearman = cu.get_correlations_from_matrix_for_act(X_act_leaders, num_of_days, corr_type='spearman')\n",
    "label_list = ['pearson_model','pearson_data','spearman_model','spearman_data']\n",
    "plot_correlations(num_of_days,[act_model_pearson, data_pearson, act_model_spearman, data_spearman],label_list,\"Correlations (active)\")"
   ]
  }
 ],
 "metadata": {
  "kernelspec": {
   "display_name": "Python 2",
   "language": "python",
   "name": "python2"
  },
  "language_info": {
   "codemirror_mode": {
    "name": "ipython",
    "version": 2
   },
   "file_extension": ".py",
   "mimetype": "text/x-python",
   "name": "python",
   "nbconvert_exporter": "python",
   "pygments_lexer": "ipython2",
   "version": "2.7.11"
  }
 },
 "nbformat": 4,
 "nbformat_minor": 0
}
