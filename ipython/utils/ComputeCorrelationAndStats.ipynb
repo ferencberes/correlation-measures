{
 "cells": [
  {
   "cell_type": "code",
   "execution_count": null,
   "metadata": {
    "collapsed": false
   },
   "outputs": [],
   "source": [
    "from IPython.core.display import display, HTML\n",
    "display(HTML(\"<style>.container { width:100% !important; }</style>\"))"
   ]
  },
  {
   "cell_type": "code",
   "execution_count": null,
   "metadata": {
    "collapsed": true
   },
   "outputs": [],
   "source": [
    "import pandas as pd\n",
    "import numpy as np"
   ]
  },
  {
   "cell_type": "code",
   "execution_count": null,
   "metadata": {
    "collapsed": false
   },
   "outputs": [],
   "source": [
    "import sys\n",
    "sys.path.insert(0,'../../python/')\n",
    "\n",
    "import correlation_new.correlation_computer as cc\n",
    "import correlation_new.correlation_utils_new as cu"
   ]
  },
  {
   "cell_type": "markdown",
   "metadata": {},
   "source": [
    "# Util functions"
   ]
  },
  {
   "cell_type": "code",
   "execution_count": null,
   "metadata": {
    "collapsed": true
   },
   "outputs": [],
   "source": [
    "def calculate_stats_for_a_day(input_prefix, day, measure, only_positive=False):\n",
    "    prev_day = cu.load_score_map(input_prefix, day-1, measure)\n",
    "    current_day = cu.load_score_map(input_prefix, day, measure)\n",
    "    if only_positive:\n",
    "        prev_day = prev_day.query(\"score>0\")\n",
    "        current_day = current_day.query(\"score>0\")\n",
    "    overlap = set(prev_day.index).intersection(set(current_day.index))\n",
    "    return [len(current_day), len(prev_day), len(overlap)]\n",
    "\n",
    "def calculate_stats_for_days(input_prefix, days, measure_type):\n",
    "    return map(lambda x: calculate_stats_for_a_day(input_prefix, x, measure=measure_type), days)"
   ]
  },
  {
   "cell_type": "markdown",
   "metadata": {},
   "source": [
    "# Define dataset and experiment parameters"
   ]
  },
  {
   "cell_type": "code",
   "execution_count": null,
   "metadata": {
    "collapsed": false
   },
   "outputs": [],
   "source": [
    "dataset_id = 'maidan'\n",
    "measure_id = 'in_degree'\n",
    "data_path = '/mnt/idms/fberes/NETWORK/DATA/temporal_centralities/centrality_output_for_datasets/%s/centrality_scores/' % dataset_id\n",
    "output_path = '/mnt/idms/fberes/NETWORK/andreas_article/correlations/'\n",
    "\n",
    "days = range(1,22)\n",
    "print days"
   ]
  },
  {
   "cell_type": "markdown",
   "metadata": {},
   "source": [
    "# Active vertices and overlaps"
   ]
  },
  {
   "cell_type": "code",
   "execution_count": null,
   "metadata": {
    "collapsed": false
   },
   "outputs": [],
   "source": [
    "stat_df = pd.DataFrame(np.array(calculate_stats_for_days(data_path, days, measure_id)), columns=[\"curr_day_count\",\"prev_day_count\",\"overlap_count\"])\n",
    "stat_df.to_csv(output_path + \"/%s_%s.stats\" % (dataset_id,measure_id), sep=\" \")\n",
    "stat_df.head()"
   ]
  },
  {
   "cell_type": "markdown",
   "metadata": {},
   "source": [
    "# Daily correlations"
   ]
  },
  {
   "cell_type": "code",
   "execution_count": null,
   "metadata": {
    "collapsed": false
   },
   "outputs": [],
   "source": [
    "%%time\n",
    "pearson_result = cu.calculate_corr_for_days(data_path, days,corr_type=\"pearson\",measure_type=measure_id)\n",
    "cu.result2file(pearson_result, output_path + \"/%s_%s.pearson\" % (dataset_id,measure_id))\n",
    "print pearson_result"
   ]
  },
  {
   "cell_type": "code",
   "execution_count": null,
   "metadata": {
    "collapsed": false
   },
   "outputs": [],
   "source": [
    "%%time\n",
    "spearman_result = cu.calculate_corr_for_days(data_path, days,corr_type=\"spearman\",measure_type=measure_id)\n",
    "cu.result2file(spearman_result, output_path + \"/%s_%s.spearman\" % (dataset_id,measure_id))\n",
    "print spearman_result"
   ]
  },
  {
   "cell_type": "code",
   "execution_count": null,
   "metadata": {
    "collapsed": false
   },
   "outputs": [],
   "source": [
    "%%time\n",
    "kendall_result = cu.calculate_corr_for_days(data_path, days,corr_type=\"kendall\",measure_type=measure_id)\n",
    "cu.result2file(kendall_result, output_path + \"/%s_%s.kendall\" % (dataset_id,measure_id))\n",
    "print kendall_result"
   ]
  },
  {
   "cell_type": "markdown",
   "metadata": {},
   "source": [
    "#### TODO: compute weighted kendall + include it in this notebook!!!"
   ]
  },
  {
   "cell_type": "markdown",
   "metadata": {
    "collapsed": false
   },
   "source": [
    "%%time\n",
    "calculate_corr_for_days(days,corr_type=\"w_kendall\")"
   ]
  }
 ],
 "metadata": {
  "kernelspec": {
   "display_name": "Python 2",
   "language": "python",
   "name": "python2"
  },
  "language_info": {
   "codemirror_mode": {
    "name": "ipython",
    "version": 2
   },
   "file_extension": ".py",
   "mimetype": "text/x-python",
   "name": "python",
   "nbconvert_exporter": "python",
   "pygments_lexer": "ipython2",
   "version": "2.7.11"
  }
 },
 "nbformat": 4,
 "nbformat_minor": 0
}
