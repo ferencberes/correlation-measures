{
 "cells": [
  {
   "cell_type": "code",
   "execution_count": null,
   "metadata": {
    "collapsed": false
   },
   "outputs": [],
   "source": [
    "from IPython.core.display import display, HTML\n",
    "display(HTML(\"<style>.container { width:100% !important; }</style>\"))"
   ]
  },
  {
   "cell_type": "code",
   "execution_count": null,
   "metadata": {
    "collapsed": false
   },
   "outputs": [],
   "source": [
    "import sys\n",
    "from datawand.parametrization import ParamHelper\n",
    "ph = ParamHelper(\"../../pipelines/CorrelationComputation.json\",sys.argv)"
   ]
  },
  {
   "cell_type": "code",
   "execution_count": null,
   "metadata": {
    "collapsed": true
   },
   "outputs": [],
   "source": [
    "import pandas as pd\n",
    "import numpy as np"
   ]
  },
  {
   "cell_type": "code",
   "execution_count": null,
   "metadata": {
    "collapsed": false
   },
   "outputs": [],
   "source": [
    "import sys\n",
    "sys.path.insert(0,'../../python/')\n",
    "\n",
    "import correlation_new.correlation_utils_new as cu"
   ]
  },
  {
   "cell_type": "markdown",
   "metadata": {},
   "source": [
    "# Util functions"
   ]
  },
  {
   "cell_type": "markdown",
   "metadata": {},
   "source": [
    "## Notes\n",
    "\n",
    "   * Formerly, I filtered daily users for positive score\n",
    "   * For PageRank it did not made any difference as all nodes have positive PageRank (by definition)\n",
    "   * But for Indegree I excluded many nodes for a given day.\n",
    "   * From now on, I do NOT filter nodes with zero daily score. Because despite zero score they are all part of the daily graph snapshot"
   ]
  },
  {
   "cell_type": "code",
   "execution_count": null,
   "metadata": {
    "collapsed": true
   },
   "outputs": [],
   "source": [
    "def calculate_stats_for_a_day(input_prefix, day, measure, only_positive=False):\n",
    "    prev_day = cu.load_score_map(input_prefix, day-1, measure)\n",
    "    current_day = cu.load_score_map(input_prefix, day, measure)\n",
    "    if only_positive:\n",
    "        prev_day = prev_day.query(\"score>0\")\n",
    "        current_day = current_day.query(\"score>0\")\n",
    "    overlap = set(prev_day.index).intersection(set(current_day.index))\n",
    "    return [len(current_day), len(prev_day), len(overlap)]\n",
    "\n",
    "def calculate_stats_for_days(input_prefix, days, measure_type):\n",
    "    return map(lambda x: calculate_stats_for_a_day(input_prefix, x, measure=measure_type), days)"
   ]
  },
  {
   "cell_type": "markdown",
   "metadata": {},
   "source": [
    "# Define dataset and experiment parameters"
   ]
  },
  {
   "cell_type": "code",
   "execution_count": null,
   "metadata": {
    "collapsed": false
   },
   "outputs": [],
   "source": [
    "experiment_folder = ph.get(\"experiment_folder\")"
   ]
  },
  {
   "cell_type": "code",
   "execution_count": null,
   "metadata": {
    "collapsed": false
   },
   "outputs": [],
   "source": [
    "dataset_id = ph.get(\"dataset_id\")\n",
    "measure_id = ph.get(\"measure_id\")\n",
    "data_path = '/mnt/idms/fberes/network/DATA/temporal_centralities/centrality_output_for_datasets/%s/centrality_scores/' % dataset_id\n",
    "output_path = '%s/correlations/' % experiment_folder\n",
    "corr_types = ph.get(\"corr_types\")\n",
    "N_THREADS = ph.get(\"num_workers\")\n",
    "days = range(1,22)\n",
    "print days"
   ]
  },
  {
   "cell_type": "markdown",
   "metadata": {},
   "source": [
    "# Active vertices and overlaps"
   ]
  },
  {
   "cell_type": "code",
   "execution_count": null,
   "metadata": {
    "collapsed": false
   },
   "outputs": [],
   "source": [
    "stat_df = pd.DataFrame(np.array(calculate_stats_for_days(data_path, days, measure_id)), columns=[\"curr_day_count\",\"prev_day_count\",\"overlap_count\"])\n",
    "stat_df.to_csv(output_path + \"/%s_%s.stats\" % (dataset_id,measure_id), sep=\" \")\n",
    "stat_df.head()"
   ]
  },
  {
   "cell_type": "markdown",
   "metadata": {},
   "source": [
    "# Daily correlations"
   ]
  },
  {
   "cell_type": "code",
   "execution_count": null,
   "metadata": {
    "collapsed": false
   },
   "outputs": [],
   "source": [
    "%%time\n",
    "if 'pearson' in corr_types:\n",
    "    pearson_result = cu.calculate_corr_for_days(data_path, days,corr_type=\"pearson\", measure_type=measure_id, n_threads=N_THREADS)\n",
    "    cu.result2file(pearson_result, output_path + \"/%s_%s.pearson\" % (dataset_id,measure_id))\n",
    "    print pearson_result"
   ]
  },
  {
   "cell_type": "code",
   "execution_count": null,
   "metadata": {
    "collapsed": false
   },
   "outputs": [],
   "source": [
    "%%time\n",
    "if 'spearman' in corr_types:\n",
    "    spearman_result = cu.calculate_corr_for_days(data_path, days,corr_type=\"spearman\", measure_type=measure_id)\n",
    "    cu.result2file(spearman_result, output_path + \"/%s_%s.spearman\" % (dataset_id,measure_id))\n",
    "    print spearman_result"
   ]
  },
  {
   "cell_type": "code",
   "execution_count": null,
   "metadata": {
    "collapsed": false
   },
   "outputs": [],
   "source": [
    "%%time\n",
    "if 'kendall' in corr_types:\n",
    "    kendall_result = cu.calculate_corr_for_days(data_path, days,corr_type=\"kendall\", measure_type=measure_id)\n",
    "    cu.result2file(kendall_result, output_path + \"/%s_%s.kendall\" % (dataset_id,measure_id))\n",
    "    print kendall_result"
   ]
  },
  {
   "cell_type": "code",
   "execution_count": null,
   "metadata": {
    "collapsed": false
   },
   "outputs": [],
   "source": [
    "%%time\n",
    "if 'w_kendall' in corr_types:\n",
    "    w_kendall_result = cu.calculate_corr_for_days(data_path, days,corr_type=\"w_kendall\", measure_type=measure_id)\n",
    "    cu.result2file(w_kendall_result, output_path + \"/%s_%s.w_kendall\" % (dataset_id,measure_id))\n",
    "    print w_kendall_result"
   ]
  }
 ],
 "metadata": {
  "anaconda-cloud": {},
  "kernelspec": {
   "display_name": "Python [conda env:dm-env]",
   "language": "python",
   "name": "conda-env-dm-env-py"
  },
  "language_info": {
   "codemirror_mode": {
    "name": "ipython",
    "version": 2
   },
   "file_extension": ".py",
   "mimetype": "text/x-python",
   "name": "python",
   "nbconvert_exporter": "python",
   "pygments_lexer": "ipython2",
   "version": "2.7.12"
  }
 },
 "nbformat": 4,
 "nbformat_minor": 0
}