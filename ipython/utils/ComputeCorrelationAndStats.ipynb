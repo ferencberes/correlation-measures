{
 "cells": [
  {
   "cell_type": "code",
   "execution_count": null,
   "metadata": {
    "collapsed": false
   },
   "outputs": [],
   "source": [
    "from IPython.core.display import display, HTML\n",
    "display(HTML(\"<style>.container { width:100% !important; }</style>\"))"
   ]
  },
  {
   "cell_type": "code",
   "execution_count": null,
   "metadata": {
    "collapsed": true
   },
   "outputs": [],
   "source": [
    "import pandas as pd\n",
    "import numpy as np"
   ]
  },
  {
   "cell_type": "code",
   "execution_count": null,
   "metadata": {
    "collapsed": true
   },
   "outputs": [],
   "source": [
    "import sys\n",
    "sys.path.insert(0,'../python/')\n",
    "\n",
    "import correlation_new.correlation_computer as cc"
   ]
  },
  {
   "cell_type": "markdown",
   "metadata": {},
   "source": [
    "# Util functions"
   ]
  },
  {
   "cell_type": "code",
   "execution_count": null,
   "metadata": {
    "collapsed": true
   },
   "outputs": [],
   "source": [
    "def load_score_map(input_prefix ,day, measure):\n",
    "    \"\"\"The centrality maps were pre-sorted in decreasing order!!!\"\"\"\n",
    "    scores = pd.read_csv(input_prefix + '/%s_scores_%i.txt_s' % (measure,day), sep=\" \", names=[\"id\",\"score\"])\n",
    "    scores = scores.set_index(\"id\")\n",
    "    return scores"
   ]
  },
  {
   "cell_type": "code",
   "execution_count": null,
   "metadata": {
    "collapsed": true
   },
   "outputs": [],
   "source": [
    "def result2file(result_list,file_name):\n",
    "    with open(file_name, 'w') as f:\n",
    "        #f.write('index value\\n')\n",
    "        for i in xrange(len(result_list)):\n",
    "            f.write('%i %f\\n' % (i, result_list[i]))\n",
    "    print 'Done'"
   ]
  },
  {
   "cell_type": "code",
   "execution_count": null,
   "metadata": {
    "collapsed": true
   },
   "outputs": [],
   "source": [
    "def calculate_corr_for_a_day(input_prefix, day, corr_type, measure):\n",
    "    prev_day = load_score_map(input_prefix, day-1, measure)\n",
    "    current_day = load_score_map(input_prefix, day, measure)\n",
    "    corr = None\n",
    "    if corr_type==\"pearson\":\n",
    "        corr = cc.corr_pearson(prev_day,current_day)[0]\n",
    "    elif corr_type==\"spearman\":\n",
    "        corr = cc.corr_spearman(prev_day,current_day)[0]\n",
    "    elif corr_type==\"kendall\":\n",
    "        corr = cc.corr_kendalltau(prev_day,current_day)[0]\n",
    "    elif corr_type==\"w_kendall\":\n",
    "        corr = cc.corr_weighted_kendalltau(prev_day,current_day)[0]\n",
    "    else:\n",
    "        raise RuntimeError(\"Invalid correlation type: %s!\" % corr_type)\n",
    "    return corr\n",
    "        \n",
    "def calculate_corr_for_days(input_prefix, days, corr_type, measure_type):\n",
    "    return map(lambda x: calculate_corr_for_a_day(input_prefix, x, corr_type=corr_type, measure=measure_type), days)"
   ]
  },
  {
   "cell_type": "code",
   "execution_count": null,
   "metadata": {
    "collapsed": true
   },
   "outputs": [],
   "source": [
    "def calculate_stats_for_a_day(input_prefix, day, measure, only_positive=False):\n",
    "    prev_day = load_score_map(input_prefix, day-1, measure)\n",
    "    current_day = load_score_map(input_prefix, day, measure)\n",
    "    if only_positive:\n",
    "        prev_day = prev_day.query(\"score>0\")\n",
    "        current_day = current_day.query(\"score>0\")\n",
    "    overlap = set(prev_day.index).intersection(set(current_day.index))\n",
    "    return [len(current_day), len(prev_day), len(overlap)]\n",
    "\n",
    "def calculate_stats_for_days(input_prefix, days, measure_type):\n",
    "    return map(lambda x: calculate_stats_for_a_day(input_prefix, x, measure=measure_type), days)"
   ]
  },
  {
   "cell_type": "markdown",
   "metadata": {},
   "source": [
    "# Define dataset and experiment parameters"
   ]
  },
  {
   "cell_type": "code",
   "execution_count": null,
   "metadata": {
    "collapsed": false
   },
   "outputs": [],
   "source": [
    "dataset_id = '15o'\n",
    "measure_id = 'pagerank'\n",
    "data_path = '/mnt/idms/fberes/NETWORK/DATA/temporal_centralities/centrality_output_for_datasets/%s/centrality_scores/' % dataset_id\n",
    "output_path = '/mnt/idms/fberes/NETWORK/andreas_article/correlations/'\n",
    "\n",
    "days = range(1,22)\n",
    "print days"
   ]
  },
  {
   "cell_type": "markdown",
   "metadata": {},
   "source": [
    "# Active vertices and overlaps"
   ]
  },
  {
   "cell_type": "code",
   "execution_count": null,
   "metadata": {
    "collapsed": false
   },
   "outputs": [],
   "source": [
    "stat_df = pd.DataFrame(np.array(calculate_stats_for_days(data_path, days, measure_id)), columns=[\"curr_day_count\",\"prev_day_count\",\"overlap_count\"])\n",
    "stat_df.to_csv(output_path + \"/%s_%s.stats\" % (dataset_id,measure_id), sep=\" \")\n",
    "stat_df.head()"
   ]
  },
  {
   "cell_type": "markdown",
   "metadata": {},
   "source": [
    "# Daily correlations"
   ]
  },
  {
   "cell_type": "code",
   "execution_count": null,
   "metadata": {
    "collapsed": false
   },
   "outputs": [],
   "source": [
    "%%time\n",
    "pearson_result = calculate_corr_for_days(data_path, days,corr_type=\"pearson\",measure_type=measure_id)\n",
    "result2file(pearson_result, output_path + \"/%s_%s.pearson\" % (dataset_id,measure_id))\n",
    "print pearson_result"
   ]
  },
  {
   "cell_type": "code",
   "execution_count": null,
   "metadata": {
    "collapsed": false
   },
   "outputs": [],
   "source": [
    "%%time\n",
    "spearman_result = calculate_corr_for_days(data_path, days,corr_type=\"spearman\",measure_type=measure_id)\n",
    "result2file(spearman_result, output_path + \"/%s_%s.spearman\" % (dataset_id,measure_id))\n",
    "print spearman_result"
   ]
  },
  {
   "cell_type": "code",
   "execution_count": null,
   "metadata": {
    "collapsed": false
   },
   "outputs": [],
   "source": [
    "%%time\n",
    "kendall_result = calculate_corr_for_days(data_path, days,corr_type=\"kendall\",measure_type=measure_id)\n",
    "result2file(kendall_result, output_path + \"/%s_%s.kendall\" % (dataset_id,measure_id))\n",
    "print kendall_result"
   ]
  },
  {
   "cell_type": "markdown",
   "metadata": {
    "collapsed": false
   },
   "source": [
    "%%time\n",
    "calculate_corr_for_days(days,corr_type=\"w_kendall\")"
   ]
  }
 ],
 "metadata": {
  "kernelspec": {
   "display_name": "Python 2",
   "language": "python",
   "name": "python2"
  },
  "language_info": {
   "codemirror_mode": {
    "name": "ipython",
    "version": 2
   },
   "file_extension": ".py",
   "mimetype": "text/x-python",
   "name": "python",
   "nbconvert_exporter": "python",
   "pygments_lexer": "ipython2",
   "version": "2.7.11"
  }
 },
 "nbformat": 4,
 "nbformat_minor": 0
}
