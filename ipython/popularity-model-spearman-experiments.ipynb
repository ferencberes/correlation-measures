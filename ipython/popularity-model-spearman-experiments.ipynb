{
 "cells": [
  {
   "cell_type": "code",
   "execution_count": null,
   "metadata": {
    "collapsed": false
   },
   "outputs": [],
   "source": [
    "import pandas as pd\n",
    "import numpy as np\n",
    "import seaborn as sns\n",
    "import re, math"
   ]
  },
  {
   "cell_type": "code",
   "execution_count": null,
   "metadata": {
    "collapsed": false
   },
   "outputs": [],
   "source": [
    "%matplotlib inline\n",
    "import matplotlib.pyplot as plt"
   ]
  },
  {
   "cell_type": "code",
   "execution_count": null,
   "metadata": {
    "collapsed": false
   },
   "outputs": [],
   "source": [
    "import sys\n",
    "\n",
    "sys.path.insert(0,'../python/')\n",
    "import correlation.correlation_utils as cu\n",
    "import popularity_model.popularity_model as pm"
   ]
  },
  {
   "cell_type": "markdown",
   "metadata": {},
   "source": [
    "# Choose dataset"
   ]
  },
  {
   "cell_type": "code",
   "execution_count": null,
   "metadata": {
    "collapsed": true
   },
   "outputs": [],
   "source": [
    "dataset_id = 'maidan_pagerank'"
   ]
  },
  {
   "cell_type": "code",
   "execution_count": null,
   "metadata": {
    "collapsed": true
   },
   "outputs": [],
   "source": [
    "dataset_stat_file = \"../correlation_experiments/%s_results.csv\" % dataset_id\n",
    "stat_df = pd.read_csv(dataset_stat_file, sep=\" \")"
   ]
  },
  {
   "cell_type": "markdown",
   "metadata": {},
   "source": [
    "#### extract number of users in data"
   ]
  },
  {
   "cell_type": "code",
   "execution_count": null,
   "metadata": {
    "collapsed": false
   },
   "outputs": [],
   "source": [
    "print stat_df.columns[2]\n",
    "\n",
    "total_num_matcher = re.match(r'.*\\(total=(\\d+?)\\)', stat_df.columns[2], re.M|re.I)\n",
    "if not total_num_matcher:\n",
    "    raise RuntimeError(\"Column name does NOT match the regex!\")"
   ]
  },
  {
   "cell_type": "markdown",
   "metadata": {},
   "source": [
    "#### rename a column"
   ]
  },
  {
   "cell_type": "code",
   "execution_count": null,
   "metadata": {
    "collapsed": true
   },
   "outputs": [],
   "source": [
    "cols = list(stat_df.columns)\n",
    "cols[2] = \"fraction_of_active_nodes\"\n",
    "stat_df.columns = cols"
   ]
  },
  {
   "cell_type": "code",
   "execution_count": null,
   "metadata": {
    "collapsed": false
   },
   "outputs": [],
   "source": [
    "stat_df.head()"
   ]
  },
  {
   "cell_type": "code",
   "execution_count": null,
   "metadata": {
    "collapsed": true
   },
   "outputs": [],
   "source": [
    "num_of_users = int(total_num_matcher.group(1))\n",
    "num_of_days = len(stat_df)-1"
   ]
  },
  {
   "cell_type": "code",
   "execution_count": null,
   "metadata": {
    "collapsed": false
   },
   "outputs": [],
   "source": [
    "p = list(stat_df[\"fraction_of_active_nodes\"])[:num_of_days]\n",
    "p_overlap = list(stat_df[\"fraction_of_users_in_2day_intersections\"])[:num_of_days]"
   ]
  },
  {
   "cell_type": "markdown",
   "metadata": {},
   "source": [
    "# Correlations in real data"
   ]
  },
  {
   "cell_type": "code",
   "execution_count": null,
   "metadata": {
    "collapsed": true
   },
   "outputs": [],
   "source": [
    "data_spearman = list(stat_df[\"spearman\"])[:num_of_days-1]\n",
    "data_w_spearman = list(stat_df[\"w_spearman\"])[:num_of_days-1]"
   ]
  },
  {
   "cell_type": "markdown",
   "metadata": {},
   "source": [
    "# Popularity model"
   ]
  },
  {
   "cell_type": "code",
   "execution_count": null,
   "metadata": {
    "collapsed": false
   },
   "outputs": [],
   "source": [
    "print num_of_users, num_of_days"
   ]
  },
  {
   "cell_type": "markdown",
   "metadata": {},
   "source": [
    "**TODO: fit powerlaw exponent on real data aggregated centrality values!!!**"
   ]
  },
  {
   "cell_type": "code",
   "execution_count": null,
   "metadata": {
    "collapsed": false
   },
   "outputs": [],
   "source": [
    "model = pm.PopularityModel(num_of_users, num_of_days)"
   ]
  },
  {
   "cell_type": "markdown",
   "metadata": {
    "collapsed": false
   },
   "source": [
    "### I. popularity of users"
   ]
  },
  {
   "cell_type": "code",
   "execution_count": null,
   "metadata": {
    "collapsed": false
   },
   "outputs": [],
   "source": [
    "ax = sns.distplot(model.U)"
   ]
  },
  {
   "cell_type": "markdown",
   "metadata": {},
   "source": [
    "### II. daily variations"
   ]
  },
  {
   "cell_type": "code",
   "execution_count": null,
   "metadata": {
    "collapsed": false,
    "scrolled": true
   },
   "outputs": [],
   "source": [
    "ax = sns.distplot(model.alpha[:,0])"
   ]
  },
  {
   "cell_type": "markdown",
   "metadata": {},
   "source": [
    "### III. calculate daily centrality scores (without Markov model)"
   ]
  },
  {
   "cell_type": "code",
   "execution_count": null,
   "metadata": {
    "collapsed": false
   },
   "outputs": [],
   "source": [
    "ax = sns.distplot(model.X[0,:])"
   ]
  },
  {
   "cell_type": "markdown",
   "metadata": {},
   "source": [
    "### IV. Introducing Markov model without leaders"
   ]
  },
  {
   "cell_type": "code",
   "execution_count": null,
   "metadata": {
    "collapsed": false
   },
   "outputs": [],
   "source": [
    "X_act = model.get_centrality_with_markov(p, p_overlap)"
   ]
  },
  {
   "cell_type": "markdown",
   "metadata": {},
   "source": [
    "### V. Introducing Markov model with leaders"
   ]
  },
  {
   "cell_type": "code",
   "execution_count": null,
   "metadata": {
    "collapsed": false
   },
   "outputs": [],
   "source": [
    "X_act_leaders = model.get_centrality_with_markov(p, p_overlap, lambda_=0.1)"
   ]
  },
  {
   "cell_type": "markdown",
   "metadata": {
    "collapsed": true
   },
   "source": [
    "# Export centrality scores"
   ]
  },
  {
   "cell_type": "code",
   "execution_count": null,
   "metadata": {
    "collapsed": true
   },
   "outputs": [],
   "source": [
    "import os\n",
    "\n",
    "def export_daily_scores(output_folder, M):\n",
    "    if not os.path.exists(output_folder):\n",
    "        os.makedirs(output_folder)\n",
    "    for i in range(num_of_days):\n",
    "        f = open(output_folder + '/centrality_scores_%i.txt' % i,'w')\n",
    "        for j in range(num_of_users):\n",
    "            if M[i,j] > 0.0:\n",
    "                f.write('%i %f\\n' % (j,M[i,j]))\n",
    "        f.close()\n",
    "    print 'Daily scores were exported to files.'                "
   ]
  },
  {
   "cell_type": "code",
   "execution_count": null,
   "metadata": {
    "collapsed": true
   },
   "outputs": [],
   "source": [
    "#export_daily_scores('../correlation_experiments/%s_nelly_model/centrality_scores/' % dataset_id, X)"
   ]
  },
  {
   "cell_type": "code",
   "execution_count": null,
   "metadata": {
    "collapsed": true
   },
   "outputs": [],
   "source": [
    "#export_daily_scores('../correlation_experiments/%s_nelly_model_markov/centrality_scores/' % dataset_id, X_act)"
   ]
  },
  {
   "cell_type": "code",
   "execution_count": null,
   "metadata": {
    "collapsed": true
   },
   "outputs": [],
   "source": [
    "#export_daily_scores('../correlation_experiments/%s_nelly_model_leaders/centrality_scores/' % dataset_id, X_act_leaders)"
   ]
  },
  {
   "cell_type": "markdown",
   "metadata": {},
   "source": [
    "# Experiments"
   ]
  },
  {
   "cell_type": "code",
   "execution_count": null,
   "metadata": {
    "collapsed": false
   },
   "outputs": [],
   "source": [
    "def plot_correlations(num_of_days, values, labels, caption, figsize=(10,5)):\n",
    "    plt.figure(figsize=figsize)\n",
    "    plt.title(caption)\n",
    "    for i in range(len(values)):\n",
    "        plt.plot(range(num_of_days-1),values[i],'-o',label=labels[i])\n",
    "    plt.ylim(-0.55,1.1)\n",
    "    plt.legend()\n",
    "    plt.show()"
   ]
  },
  {
   "cell_type": "code",
   "execution_count": null,
   "metadata": {
    "collapsed": false
   },
   "outputs": [],
   "source": [
    "import scipy.stats as stats\n",
    "import operator\n",
    "\n",
    "def get_correlations(A, num_of_days):\n",
    "    pearson, spearman = [], []\n",
    "    for i in xrange(1,num_of_days):\n",
    "        pearson.append(stats.pearsonr(A[i-1,:],A[i,:])[0])\n",
    "        spearman.append(stats.spearmanr(A[i-1,:],A[i,:])[0])\n",
    "    return pearson, spearman\n",
    "    \n",
    "def filter_active_users(A, num_of_days):\n",
    "    num_users = A.shape[1]\n",
    "    centrality_maps = []\n",
    "    for i in range(num_of_days):\n",
    "        centrality_maps.append({})\n",
    "        for j in range(num_users):\n",
    "            val = A[i,j]\n",
    "            if val > 0.0:\n",
    "                centrality_maps[i][j] = val\n",
    "    return centrality_maps\n",
    "\n",
    "def get_custom_correlations(A, num_of_days, corr_type='spearman'):\n",
    "    \"\"\"Return unweighted and weighted correlations\"\"\"\n",
    "    return cu.compute_correlation_sequential(filter_active_users(A,num_of_days),corr_type=corr_type)"
   ]
  },
  {
   "cell_type": "markdown",
   "metadata": {},
   "source": [
    "arr = np.array([[1.2,0.0,3.4],[0.0,1.1,0.0],[0.0,6.7,11.0]])\n",
    "print filter_active_users(arr,3)"
   ]
  },
  {
   "cell_type": "markdown",
   "metadata": {},
   "source": [
    "## 1.) correlations without Markov model"
   ]
  },
  {
   "cell_type": "markdown",
   "metadata": {},
   "source": [
    "#### scipy correlation code\n",
    "\n",
    "   * there is no fit to real data"
   ]
  },
  {
   "cell_type": "code",
   "execution_count": null,
   "metadata": {
    "collapsed": false
   },
   "outputs": [],
   "source": [
    "pearson, spearman = get_correlations(model.X, num_of_days)\n",
    "#plot_correlations(num_of_days,[spearman,pearson],['spearman','pearson'],\"Correlations\")\n",
    "plot_correlations(num_of_days,[spearman,data_spearman],['model','data'],\"Spearman's rho\")"
   ]
  },
  {
   "cell_type": "markdown",
   "metadata": {},
   "source": [
    "#### custom correlation code\n",
    "\n",
    "   * there is no fit to real data (YET)\n",
    "   * we have the same results as the scipy implementation for unweighted spearman (this is good!)"
   ]
  },
  {
   "cell_type": "code",
   "execution_count": null,
   "metadata": {
    "collapsed": false
   },
   "outputs": [],
   "source": [
    "res = get_custom_correlations(model.X, num_of_days)\n",
    "spearman, w_spearman = list(res[:,0]), list(res[:,1])\n",
    "label_list = ['model_spearman','data_spearman','model_w_spearman','data_w_spearman']\n",
    "plot_correlations(num_of_days,[spearman,data_spearman,w_spearman,data_w_spearman],label_list,\"Spearman's rho\")"
   ]
  },
  {
   "cell_type": "markdown",
   "metadata": {},
   "source": [
    "## 2.) correlations with Markov model"
   ]
  },
  {
   "cell_type": "markdown",
   "metadata": {},
   "source": [
    "#### scipy correlation code\n",
    "\n",
    "   * scipy correlation code gives bad results! Ties are not handled properly?\n",
    "   * **TODO: investigate the custom correlation code (which gives good results... because of average tie position resolution?)**"
   ]
  },
  {
   "cell_type": "code",
   "execution_count": null,
   "metadata": {
    "collapsed": false
   },
   "outputs": [],
   "source": [
    "pearson, spearman = get_correlations(X_act, num_of_days)\n",
    "#plot_correlations(num_of_days,[spearman,pearson],['spearman','pearson'],\"Correlations\")\n",
    "plot_correlations(num_of_days,[spearman,data_spearman],['model','data'],\"Spearman's rho\")"
   ]
  },
  {
   "cell_type": "markdown",
   "metadata": {},
   "source": [
    "#### custom correlation code\n",
    "\n",
    "   * there is a match between the model and the data for normal Spearman's correlation\n",
    "   * the weighted Spearman's correlation does not fit real data - the reason for this is the absence of **leaders**"
   ]
  },
  {
   "cell_type": "code",
   "execution_count": null,
   "metadata": {
    "collapsed": false
   },
   "outputs": [],
   "source": [
    "res = get_custom_correlations(X_act, num_of_days)\n",
    "spearman, w_spearman = list(res[:,0]), list(res[:,1])\n",
    "label_list = ['model_spearman','data_spearman','model_w_spearman','data_w_spearman']\n",
    "plot_correlations(num_of_days,[spearman,data_spearman,w_spearman,data_w_spearman],label_list,\"Spearman's rho\")"
   ]
  },
  {
   "cell_type": "markdown",
   "metadata": {},
   "source": [
    "## 3.) correlations with Markov model and Leaders"
   ]
  },
  {
   "cell_type": "code",
   "execution_count": null,
   "metadata": {
    "collapsed": true
   },
   "outputs": [],
   "source": [
    "X_act_leaders = model.get_centrality_with_markov(p, p_overlap, lambda_=0.1)"
   ]
  },
  {
   "cell_type": "markdown",
   "metadata": {},
   "source": [
    "#### scipy correlation code\n",
    "\n",
    "   * there is no effect of the leaders\n",
    "   * there is still _positive correlations_ (because of too many 0.0 centralities)"
   ]
  },
  {
   "cell_type": "code",
   "execution_count": null,
   "metadata": {
    "collapsed": false
   },
   "outputs": [],
   "source": [
    "pearson, spearman = get_correlations(X_act_leaders, num_of_days)\n",
    "#plot_correlations(num_of_days,[spearman,pearson],['spearman','pearson'],\"Correlations\")\n",
    "plot_correlations(num_of_days,[spearman,data_spearman],['model','data'],\"Spearman's rho\")"
   ]
  },
  {
   "cell_type": "markdown",
   "metadata": {},
   "source": [
    "#### custom correlation code\n",
    "\n",
    "   * even better results than without leaders\n",
    "   * unweighted spearman is almost a perfect match on model and real data\n",
    "   * weighted spearman fits much better to real data with the introduction of leaders (as expected)"
   ]
  },
  {
   "cell_type": "code",
   "execution_count": null,
   "metadata": {
    "collapsed": false
   },
   "outputs": [],
   "source": [
    "res = get_custom_correlations(X_act_leaders, num_of_days)\n",
    "spearman, w_spearman = list(res[:,0]), list(res[:,1])\n",
    "label_list = ['model_spearman','data_spearman','model_w_spearman','data_w_spearman']\n",
    "plot_correlations(num_of_days,[spearman,data_spearman,w_spearman,data_w_spearman],label_list,\"Spearman's rho\")"
   ]
  },
  {
   "cell_type": "code",
   "execution_count": null,
   "metadata": {
    "collapsed": true
   },
   "outputs": [],
   "source": []
  }
 ],
 "metadata": {
  "kernelspec": {
   "display_name": "Python 2",
   "language": "python",
   "name": "python2"
  },
  "language_info": {
   "codemirror_mode": {
    "name": "ipython",
    "version": 2
   },
   "file_extension": ".py",
   "mimetype": "text/x-python",
   "name": "python",
   "nbconvert_exporter": "python",
   "pygments_lexer": "ipython2",
   "version": "2.7.11"
  }
 },
 "nbformat": 4,
 "nbformat_minor": 0
}
