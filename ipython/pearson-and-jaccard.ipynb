{
 "cells": [
  {
   "cell_type": "code",
   "execution_count": null,
   "metadata": {
    "collapsed": false
   },
   "outputs": [],
   "source": [
    "from IPython.core.display import display, HTML\n",
    "display(HTML(\"<style>.container { width:100% !important; }</style>\"))"
   ]
  },
  {
   "cell_type": "code",
   "execution_count": null,
   "metadata": {
    "collapsed": true
   },
   "outputs": [],
   "source": [
    "import pandas as pd\n",
    "import numpy as np\n",
    "import re, math, itertools"
   ]
  },
  {
   "cell_type": "code",
   "execution_count": null,
   "metadata": {
    "collapsed": true
   },
   "outputs": [],
   "source": [
    "%matplotlib inline\n",
    "import matplotlib.pyplot as plt\n",
    "import seaborn as sns\n",
    "sns.set(font=\"Droid Sans\",font_scale = 2)\n",
    "sns.set_style(\"whitegrid\")\n",
    "sns.set_color_codes(\"dark\")"
   ]
  },
  {
   "cell_type": "code",
   "execution_count": null,
   "metadata": {
    "collapsed": true
   },
   "outputs": [],
   "source": [
    "import sys, os\n",
    "sys.path.insert(0,'../python/')\n",
    "import correlation.correlation_utils as cu\n",
    "import popularity_model.popularity_model as pm\n",
    "import popularity_model.popularity_model_utils as pmu"
   ]
  },
  {
   "cell_type": "markdown",
   "metadata": {},
   "source": [
    "# Read score files"
   ]
  },
  {
   "cell_type": "markdown",
   "metadata": {},
   "source": [
    "dataset_id = \"maidan\"\n",
    "plot_title = \"Maidan\""
   ]
  },
  {
   "cell_type": "markdown",
   "metadata": {
    "collapsed": true
   },
   "source": [
    "dataset_id = \"15o\"\n",
    "plot_title = \"15o\""
   ]
  },
  {
   "cell_type": "markdown",
   "metadata": {
    "collapsed": true
   },
   "source": [
    "dataset_id = \"yo\"\n",
    "plot_title = \"Yosoy\""
   ]
  },
  {
   "cell_type": "code",
   "execution_count": null,
   "metadata": {
    "collapsed": true
   },
   "outputs": [],
   "source": [
    "dataset_id = \"oc\"\n",
    "plot_title = \"Occupy\""
   ]
  },
  {
   "cell_type": "code",
   "execution_count": null,
   "metadata": {
    "collapsed": true
   },
   "outputs": [],
   "source": [
    "num_of_days = 21"
   ]
  },
  {
   "cell_type": "code",
   "execution_count": null,
   "metadata": {
    "collapsed": true
   },
   "outputs": [],
   "source": [
    "score_dir = '/mnt/idms/rank_correlation_common/results/new_experiments/centrality_output_for_datasets_normalized/%s/centrality_scores/' % dataset_id"
   ]
  },
  {
   "cell_type": "code",
   "execution_count": null,
   "metadata": {
    "collapsed": false
   },
   "outputs": [],
   "source": [
    "daily_scores = []\n",
    "user_ids = set([])\n",
    "for i in range(num_of_days):\n",
    "    daily_scores.append(pd.read_csv(score_dir + '/pagerank_scores_%i.txt_s' % i,sep=\" \", names=[\"id\",\"score\"]))\n",
    "    user_ids = user_ids.union(set(daily_scores[i]['id']))\n",
    "    print len(daily_scores[i])\n",
    "user_ids = list(user_ids)"
   ]
  },
  {
   "cell_type": "code",
   "execution_count": null,
   "metadata": {
    "collapsed": false
   },
   "outputs": [],
   "source": [
    "print len(daily_scores), len(user_ids)"
   ]
  },
  {
   "cell_type": "markdown",
   "metadata": {},
   "source": [
    "# 1. Merge daily active users"
   ]
  },
  {
   "cell_type": "code",
   "execution_count": null,
   "metadata": {
    "collapsed": true
   },
   "outputs": [],
   "source": [
    "def join_consecutive_days(day_1, day_2):\n",
    "    d_1 = day_1 #d1.set_index(\"id\")\n",
    "    d_2 = day_2.set_index(\"id\")\n",
    "    joined = pd.concat([d_1,d_2],join='outer',axis=1)\n",
    "    joined = joined.fillna(0.0)\n",
    "    return joined\n",
    "\n",
    "def merge_all_days(score_list):\n",
    "    merged = score_list[0]\n",
    "    merged = merged.set_index(\"id\")\n",
    "    for i in range(1,len(score_list)):\n",
    "        merged = join_consecutive_days(merged, score_list[i])\n",
    "        #print merged\n",
    "    merged.columns = ['score_%i' % i for i in range(len(score_list))]\n",
    "    for i in range(len(score_list)):\n",
    "        merged['score_%i' % i] = merged['score_%i' % i].astype('float64')\n",
    "    merged['AGGR_SCORE'] = merged.sum(axis=1)\n",
    "    merged.sort('AGGR_SCORE',axis=0,inplace=True,ascending=False)\n",
    "    return merged"
   ]
  },
  {
   "cell_type": "markdown",
   "metadata": {},
   "source": [
    "d1 = pd.DataFrame(np.array([[10,2.3],[13,0.2],[17,4.3]]), columns=[\"id\",\"score\"])\n",
    "d2 = pd.DataFrame(np.array([[12,5.3],[10,0.1],[13,3.9]]), columns=[\"id\",\"score\"])\n",
    "d3 = pd.DataFrame(np.array([[18,5.5],[10,0.1],[14,3.9]]), columns=[\"id\",\"score\"])\n",
    "merged = merge_all_days([d1,d2,d3])\n",
    "print merged"
   ]
  },
  {
   "cell_type": "code",
   "execution_count": null,
   "metadata": {
    "collapsed": false
   },
   "outputs": [],
   "source": [
    "merged_daily_scores = merge_all_days(daily_scores)"
   ]
  },
  {
   "cell_type": "code",
   "execution_count": null,
   "metadata": {
    "collapsed": false
   },
   "outputs": [],
   "source": [
    "merged_daily_scores.head()"
   ]
  },
  {
   "cell_type": "markdown",
   "metadata": {},
   "source": [
    "## Export aggregated score"
   ]
  },
  {
   "cell_type": "code",
   "execution_count": null,
   "metadata": {
    "collapsed": true
   },
   "outputs": [],
   "source": [
    "aggr_score = merged_daily_scores['AGGR_SCORE']"
   ]
  },
  {
   "cell_type": "markdown",
   "metadata": {},
   "source": [
    "f, ax = plt.subplots(figsize=(7, 7))\n",
    "sns.distplot(aggr_score)"
   ]
  },
  {
   "cell_type": "markdown",
   "metadata": {},
   "source": [
    "merged_daily_scores.to_csv('../../correlation_experiments/aggr_pagerank/%s_aggregated_pagerank.csv' % dataset_id, columns=[\"AGGR_SCORE\"])"
   ]
  },
  {
   "cell_type": "markdown",
   "metadata": {},
   "source": [
    "# 2. Compute pearson and jaccard"
   ]
  },
  {
   "cell_type": "code",
   "execution_count": null,
   "metadata": {
    "collapsed": false
   },
   "outputs": [],
   "source": [
    "import scipy.stats as stats\n",
    "\n",
    "def get_list_pair(M,day_idx):\n",
    "    idx = day_idx\n",
    "    day_one = M[:,idx]\n",
    "    day_two = M[:,idx+1]\n",
    "    \n",
    "    ind_one=np.nonzero(day_one)[0];\n",
    "    ind_two=np.nonzero(day_two)[0];\n",
    "    ind=np.union1d(ind_one,ind_two)\n",
    "    \n",
    "    jaccard = float(len(np.intersect1d(ind_one,ind_two))) / len(ind)  \n",
    "    return day_one[ind], day_two[ind], jaccard\n",
    "\n",
    "def get_pearson_and_jacard(A, num_days):\n",
    "    res = []\n",
    "    for i in xrange(1,num_days):\n",
    "        list_0, list_1, jaccard = get_list_pair(A,i-1)\n",
    "        pearson_corr = stats.pearsonr(list_0,list_1)[0]\n",
    "        res.append([pearson_corr,jaccard])\n",
    "    return np.array(res)"
   ]
  },
  {
   "cell_type": "code",
   "execution_count": null,
   "metadata": {
    "collapsed": false
   },
   "outputs": [],
   "source": [
    "only_scores = merged_daily_scores[list(merged_daily_scores.columns)[:-1]]\n",
    "score_mx = only_scores.as_matrix()\n",
    "only_scores.head()"
   ]
  },
  {
   "cell_type": "code",
   "execution_count": null,
   "metadata": {
    "collapsed": false
   },
   "outputs": [],
   "source": [
    "res = get_pearson_and_jacard(score_mx,num_of_days)\n",
    "pearson = res[:,0]\n",
    "jaccard = res[:,1]"
   ]
  },
  {
   "cell_type": "markdown",
   "metadata": {},
   "source": [
    "# 3. Visualize correlation measures"
   ]
  },
  {
   "cell_type": "code",
   "execution_count": null,
   "metadata": {
    "collapsed": false
   },
   "outputs": [],
   "source": [
    "dataset_stat_file = \"../../correlation_experiments/%s_pagerank_results.csv\" % dataset_id\n",
    "stat_df = pd.read_csv(dataset_stat_file, sep=\" \")"
   ]
  },
  {
   "cell_type": "code",
   "execution_count": null,
   "metadata": {
    "collapsed": true
   },
   "outputs": [],
   "source": [
    "spearman = list(stat_df[\"kendall\"])[:num_of_days-1]\n",
    "kendall = list(stat_df[\"kendall\"])[:num_of_days-1]\n",
    "w_kendall = list(stat_df[\"w_kendall\"])[:num_of_days-1]"
   ]
  },
  {
   "cell_type": "markdown",
   "metadata": {},
   "source": [
    "marker = itertools.cycle((\"o\", \"s\", \"^\", \"v\", \">\", \"<\", \"D\",\"*\")) \n",
    "def plot_correlations(num_of_days, values, labels, caption, figsize=(12,8)):\n",
    "    plt.figure(figsize=figsize)\n",
    "    for i in range(len(values)):\n",
    "        plt.plot(range(num_of_days-1),values[i],'-o',label=labels[i],marker=marker.next(),markersize='10')\n",
    "    plt.ylim(-1.0,1.1)\n",
    "    plt.legend()\n",
    "    plt.savefig('../../correlation_experiments/%s.png' % dataset_id)\n",
    "    plt.show()"
   ]
  },
  {
   "cell_type": "code",
   "execution_count": null,
   "metadata": {
    "collapsed": true
   },
   "outputs": [],
   "source": [
    "marker = itertools.cycle((\"o\", \"s\", \"^\", \"v\", \">\", \"<\", \"D\",\"*\")) \n",
    "def plot_correlations(num_of_days, values, labels, caption, figsize=(12,8)):\n",
    "    plt.figure(figsize=figsize)\n",
    "    plt.title(plot_title)\n",
    "    ax = plt.subplot(111)\n",
    "    for i in range(len(values)):\n",
    "        ax.plot(range(num_of_days-1),values[i],'-o',label=labels[i],marker=marker.next(),markersize='10')\n",
    "    plt.ylim(-1.0,1.1)\n",
    "    ax.legend(loc='lower center',bbox_to_anchor=(0.5, 0.0),ncol=3,fancybox=True,shadow=True)\n",
    "    plt.savefig('../../correlation_experiments/%s.png' % dataset_id)\n",
    "    plt.show()"
   ]
  },
  {
   "cell_type": "code",
   "execution_count": null,
   "metadata": {
    "collapsed": false
   },
   "outputs": [],
   "source": [
    "label_list = [\"pearson\",\"spearman\",\"kendall\",\"weighted kendall\",\"jaccard\"]\n",
    "plot_correlations(num_of_days,[pearson,spearman,kendall,w_kendall,jaccard],label_list,dataset_id)"
   ]
  },
  {
   "cell_type": "code",
   "execution_count": null,
   "metadata": {
    "collapsed": true
   },
   "outputs": [],
   "source": []
  }
 ],
 "metadata": {
  "kernelspec": {
   "display_name": "Python 2",
   "language": "python",
   "name": "python2"
  },
  "language_info": {
   "codemirror_mode": {
    "name": "ipython",
    "version": 2
   },
   "file_extension": ".py",
   "mimetype": "text/x-python",
   "name": "python",
   "nbconvert_exporter": "python",
   "pygments_lexer": "ipython2",
   "version": "2.7.11"
  }
 },
 "nbformat": 4,
 "nbformat_minor": 0
}
